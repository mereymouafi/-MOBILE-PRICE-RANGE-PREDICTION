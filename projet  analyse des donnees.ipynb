{
 "cells": [
  {
   "cell_type": "markdown",
   "id": "fd029504",
   "metadata": {},
   "source": [
    "# ---------------------------MOBILE PRICE RANGE PREDICTION :------------------------------\n"
   ]
  },
  {
   "cell_type": "markdown",
   "id": "6b6aa84e",
   "metadata": {},
   "source": [
    "<img src=\"OIP.jpg\" alt=\"Description de l'image\">\n"
   ]
  },
  {
   "cell_type": "markdown",
   "id": "460dfd46",
   "metadata": {},
   "source": [
    "# Introduction :"
   ]
  },
  {
   "cell_type": "markdown",
   "id": "a33fdeb9",
   "metadata": {},
   "source": [
    "###### La régression linéaire multiple est une méthode statistique utilisée pour modéliser la relation entre une variable cible et plusieurs variables explicatives afin de prédire ou estimer cette variable cible en fonction des autres caractéristiques.\n"
   ]
  },
  {
   "cell_type": "markdown",
   "id": "d65a31cf",
   "metadata": {},
   "source": [
    "# Les variables :\n",
    "#### battery_power : Énergie totale qu'une batterie peut stocker en une seule fois, mesurée en mAh\n",
    "#### bleu : Avoir Bluetooth ou pas\n",
    "#### clock_speed : vitesse à laquelle le microprocesseur exécute les instructions\n",
    "#### dual_sim : Prend en charge ou non la double carte SIM\n",
    "#### fc : Mégapixels de la caméra frontale\n",
    "#### four_g : Avoir la 4G ou pas\n",
    "#### int_memory : Mémoire interne en gigaoctets\n",
    "#### m_dep : Profondeur mobile en cm\n",
    "#### mobile_wt : Poids du téléphone mobile\n",
    "#### n_cores : Nombre de cœurs du processeur\n",
    "#### pc : Mégapixels de l'appareil photo principal\n",
    "#### px_height : Hauteur de la résolution en pixels\n",
    "#### px_width : Largeur de résolution en pixels\n",
    "#### ram : Mémoire vive en mégaoctets\n",
    "#### #### sc_h : Hauteur de l'écran du mobile en cm\n",
    "#### sc_w : Largeur d'écran du mobile en cm\n",
    "#### talk_time : durée la plus longue qu'une seule charge de batterie durera lorsque vous êtes\n",
    "#### three_g : Avoir la 3G ou pas\n",
    "#### touch_screen : Possède un écran tactile ou non\n",
    "#### wifi : Avoir le wifi ou pas\n",
    "#### price_range : Il s'agit de la variable cible avec une valeur de 0 (faible coût), 1 (coût moyen), 2 (coût élevé) et 3 (coût très élevé)."
   ]
  },
  {
   "cell_type": "markdown",
   "id": "56e27947",
   "metadata": {},
   "source": [
    "### Importation de bibliothèques :"
   ]
  },
  {
   "cell_type": "code",
   "execution_count": 105,
   "id": "80c2c280",
   "metadata": {},
   "outputs": [],
   "source": [
    "# manipulation des tablaux et matrices\n",
    "import numpy as np \n",
    "\n",
    "# pour importer les dataset\n",
    "import pandas as pd  \n",
    "\n",
    "# pour traçer des graphes\n",
    "import matplotlib.pyplot as plt \n",
    "\n",
    "# pour la visialisation des données \n",
    "import seaborn as sns \n",
    "\n",
    "from pandas.plotting import scatter_matrix \n",
    "from sklearn import decomposition, preprocessing\n",
    "from sklearn.preprocessing import StandardScaler\n",
    "\n",
    "#import warnings                 \n",
    "import statsmodels.formula.api as smf\n",
    "import statsmodels.api as sm\n",
    "from scipy.stats import t, shapiro\n",
    "from statsmodels.stats.outliers_influence import variance_inflation_factor\n",
    "import statsmodels"
   ]
  },
  {
   "cell_type": "markdown",
   "id": "9892ae3a",
   "metadata": {},
   "source": [
    "### Importer le dataset :"
   ]
  },
  {
   "cell_type": "code",
   "execution_count": 106,
   "id": "9d6b08db",
   "metadata": {},
   "outputs": [],
   "source": [
    " training_set= pd.read_csv(\"train.csv\")"
   ]
  },
  {
   "cell_type": "markdown",
   "id": "e3a039c8",
   "metadata": {},
   "source": [
    "### Afficher les 5 premières lignes:"
   ]
  },
  {
   "cell_type": "code",
   "execution_count": 108,
   "id": "02d2816f",
   "metadata": {},
   "outputs": [
    {
     "data": {
      "text/html": [
       "<div>\n",
       "<style scoped>\n",
       "    .dataframe tbody tr th:only-of-type {\n",
       "        vertical-align: middle;\n",
       "    }\n",
       "\n",
       "    .dataframe tbody tr th {\n",
       "        vertical-align: top;\n",
       "    }\n",
       "\n",
       "    .dataframe thead th {\n",
       "        text-align: right;\n",
       "    }\n",
       "</style>\n",
       "<table border=\"1\" class=\"dataframe\">\n",
       "  <thead>\n",
       "    <tr style=\"text-align: right;\">\n",
       "      <th></th>\n",
       "      <th>battery_power</th>\n",
       "      <th>blue</th>\n",
       "      <th>clock_speed</th>\n",
       "      <th>dual_sim</th>\n",
       "      <th>fc</th>\n",
       "      <th>four_g</th>\n",
       "      <th>int_memory</th>\n",
       "      <th>m_dep</th>\n",
       "      <th>mobile_wt</th>\n",
       "      <th>n_cores</th>\n",
       "      <th>...</th>\n",
       "      <th>px_height</th>\n",
       "      <th>px_width</th>\n",
       "      <th>ram</th>\n",
       "      <th>sc_h</th>\n",
       "      <th>sc_w</th>\n",
       "      <th>talk_time</th>\n",
       "      <th>three_g</th>\n",
       "      <th>touch_screen</th>\n",
       "      <th>wifi</th>\n",
       "      <th>price_range</th>\n",
       "    </tr>\n",
       "  </thead>\n",
       "  <tbody>\n",
       "    <tr>\n",
       "      <th>0</th>\n",
       "      <td>842</td>\n",
       "      <td>0</td>\n",
       "      <td>2.2</td>\n",
       "      <td>0</td>\n",
       "      <td>1</td>\n",
       "      <td>0</td>\n",
       "      <td>7</td>\n",
       "      <td>0.6</td>\n",
       "      <td>188</td>\n",
       "      <td>2</td>\n",
       "      <td>...</td>\n",
       "      <td>20</td>\n",
       "      <td>756</td>\n",
       "      <td>2549</td>\n",
       "      <td>9</td>\n",
       "      <td>7</td>\n",
       "      <td>19</td>\n",
       "      <td>0</td>\n",
       "      <td>0</td>\n",
       "      <td>1</td>\n",
       "      <td>1</td>\n",
       "    </tr>\n",
       "    <tr>\n",
       "      <th>1</th>\n",
       "      <td>1021</td>\n",
       "      <td>1</td>\n",
       "      <td>0.5</td>\n",
       "      <td>1</td>\n",
       "      <td>0</td>\n",
       "      <td>1</td>\n",
       "      <td>53</td>\n",
       "      <td>0.7</td>\n",
       "      <td>136</td>\n",
       "      <td>3</td>\n",
       "      <td>...</td>\n",
       "      <td>905</td>\n",
       "      <td>1988</td>\n",
       "      <td>2631</td>\n",
       "      <td>17</td>\n",
       "      <td>3</td>\n",
       "      <td>7</td>\n",
       "      <td>1</td>\n",
       "      <td>1</td>\n",
       "      <td>0</td>\n",
       "      <td>2</td>\n",
       "    </tr>\n",
       "    <tr>\n",
       "      <th>2</th>\n",
       "      <td>563</td>\n",
       "      <td>1</td>\n",
       "      <td>0.5</td>\n",
       "      <td>1</td>\n",
       "      <td>2</td>\n",
       "      <td>1</td>\n",
       "      <td>41</td>\n",
       "      <td>0.9</td>\n",
       "      <td>145</td>\n",
       "      <td>5</td>\n",
       "      <td>...</td>\n",
       "      <td>1263</td>\n",
       "      <td>1716</td>\n",
       "      <td>2603</td>\n",
       "      <td>11</td>\n",
       "      <td>2</td>\n",
       "      <td>9</td>\n",
       "      <td>1</td>\n",
       "      <td>1</td>\n",
       "      <td>0</td>\n",
       "      <td>2</td>\n",
       "    </tr>\n",
       "    <tr>\n",
       "      <th>3</th>\n",
       "      <td>615</td>\n",
       "      <td>1</td>\n",
       "      <td>2.5</td>\n",
       "      <td>0</td>\n",
       "      <td>0</td>\n",
       "      <td>0</td>\n",
       "      <td>10</td>\n",
       "      <td>0.8</td>\n",
       "      <td>131</td>\n",
       "      <td>6</td>\n",
       "      <td>...</td>\n",
       "      <td>1216</td>\n",
       "      <td>1786</td>\n",
       "      <td>2769</td>\n",
       "      <td>16</td>\n",
       "      <td>8</td>\n",
       "      <td>11</td>\n",
       "      <td>1</td>\n",
       "      <td>0</td>\n",
       "      <td>0</td>\n",
       "      <td>2</td>\n",
       "    </tr>\n",
       "    <tr>\n",
       "      <th>4</th>\n",
       "      <td>1821</td>\n",
       "      <td>1</td>\n",
       "      <td>1.2</td>\n",
       "      <td>0</td>\n",
       "      <td>13</td>\n",
       "      <td>1</td>\n",
       "      <td>44</td>\n",
       "      <td>0.6</td>\n",
       "      <td>141</td>\n",
       "      <td>2</td>\n",
       "      <td>...</td>\n",
       "      <td>1208</td>\n",
       "      <td>1212</td>\n",
       "      <td>1411</td>\n",
       "      <td>8</td>\n",
       "      <td>2</td>\n",
       "      <td>15</td>\n",
       "      <td>1</td>\n",
       "      <td>1</td>\n",
       "      <td>0</td>\n",
       "      <td>1</td>\n",
       "    </tr>\n",
       "  </tbody>\n",
       "</table>\n",
       "<p>5 rows × 21 columns</p>\n",
       "</div>"
      ],
      "text/plain": [
       "   battery_power  blue  clock_speed  dual_sim  fc  four_g  int_memory  m_dep  \\\n",
       "0            842     0          2.2         0   1       0           7    0.6   \n",
       "1           1021     1          0.5         1   0       1          53    0.7   \n",
       "2            563     1          0.5         1   2       1          41    0.9   \n",
       "3            615     1          2.5         0   0       0          10    0.8   \n",
       "4           1821     1          1.2         0  13       1          44    0.6   \n",
       "\n",
       "   mobile_wt  n_cores  ...  px_height  px_width   ram  sc_h  sc_w  talk_time  \\\n",
       "0        188        2  ...         20       756  2549     9     7         19   \n",
       "1        136        3  ...        905      1988  2631    17     3          7   \n",
       "2        145        5  ...       1263      1716  2603    11     2          9   \n",
       "3        131        6  ...       1216      1786  2769    16     8         11   \n",
       "4        141        2  ...       1208      1212  1411     8     2         15   \n",
       "\n",
       "   three_g  touch_screen  wifi  price_range  \n",
       "0        0             0     1            1  \n",
       "1        1             1     0            2  \n",
       "2        1             1     0            2  \n",
       "3        1             0     0            2  \n",
       "4        1             1     0            1  \n",
       "\n",
       "[5 rows x 21 columns]"
      ]
     },
     "execution_count": 108,
     "metadata": {},
     "output_type": "execute_result"
    }
   ],
   "source": [
    "training_set.head()"
   ]
  },
  {
   "cell_type": "markdown",
   "id": "fc9eea1e",
   "metadata": {},
   "source": [
    "### Afficher la dimension du dataset :"
   ]
  },
  {
   "cell_type": "code",
   "execution_count": 109,
   "id": "04dc6f6f",
   "metadata": {},
   "outputs": [
    {
     "data": {
      "text/plain": [
       "(2000, 21)"
      ]
     },
     "execution_count": 109,
     "metadata": {},
     "output_type": "execute_result"
    }
   ],
   "source": [
    "training_set.shape"
   ]
  },
  {
   "cell_type": "markdown",
   "id": "061d9a04",
   "metadata": {},
   "source": [
    "##### ==> Ici, nous voyons que l'ensemble de données contient 2000 observations de 21 variables. La variable price_range est ceux que nous devons prévoir ."
   ]
  },
  {
   "cell_type": "markdown",
   "id": "1428668b",
   "metadata": {},
   "source": [
    "### Faire des statistique sur les données : "
   ]
  },
  {
   "cell_type": "code",
   "execution_count": 110,
   "id": "b8671ec5",
   "metadata": {},
   "outputs": [
    {
     "data": {
      "text/html": [
       "<div>\n",
       "<style scoped>\n",
       "    .dataframe tbody tr th:only-of-type {\n",
       "        vertical-align: middle;\n",
       "    }\n",
       "\n",
       "    .dataframe tbody tr th {\n",
       "        vertical-align: top;\n",
       "    }\n",
       "\n",
       "    .dataframe thead th {\n",
       "        text-align: right;\n",
       "    }\n",
       "</style>\n",
       "<table border=\"1\" class=\"dataframe\">\n",
       "  <thead>\n",
       "    <tr style=\"text-align: right;\">\n",
       "      <th></th>\n",
       "      <th>battery_power</th>\n",
       "      <th>blue</th>\n",
       "      <th>clock_speed</th>\n",
       "      <th>dual_sim</th>\n",
       "      <th>fc</th>\n",
       "      <th>four_g</th>\n",
       "      <th>int_memory</th>\n",
       "      <th>m_dep</th>\n",
       "      <th>mobile_wt</th>\n",
       "      <th>n_cores</th>\n",
       "      <th>...</th>\n",
       "      <th>px_height</th>\n",
       "      <th>px_width</th>\n",
       "      <th>ram</th>\n",
       "      <th>sc_h</th>\n",
       "      <th>sc_w</th>\n",
       "      <th>talk_time</th>\n",
       "      <th>three_g</th>\n",
       "      <th>touch_screen</th>\n",
       "      <th>wifi</th>\n",
       "      <th>price_range</th>\n",
       "    </tr>\n",
       "  </thead>\n",
       "  <tbody>\n",
       "    <tr>\n",
       "      <th>count</th>\n",
       "      <td>2000.000000</td>\n",
       "      <td>2000.0000</td>\n",
       "      <td>2000.000000</td>\n",
       "      <td>2000.000000</td>\n",
       "      <td>2000.000000</td>\n",
       "      <td>2000.000000</td>\n",
       "      <td>2000.000000</td>\n",
       "      <td>2000.000000</td>\n",
       "      <td>2000.000000</td>\n",
       "      <td>2000.000000</td>\n",
       "      <td>...</td>\n",
       "      <td>2000.000000</td>\n",
       "      <td>2000.000000</td>\n",
       "      <td>2000.000000</td>\n",
       "      <td>2000.000000</td>\n",
       "      <td>2000.000000</td>\n",
       "      <td>2000.000000</td>\n",
       "      <td>2000.000000</td>\n",
       "      <td>2000.000000</td>\n",
       "      <td>2000.000000</td>\n",
       "      <td>2000.000000</td>\n",
       "    </tr>\n",
       "    <tr>\n",
       "      <th>mean</th>\n",
       "      <td>1238.518500</td>\n",
       "      <td>0.4950</td>\n",
       "      <td>1.522250</td>\n",
       "      <td>0.509500</td>\n",
       "      <td>4.309500</td>\n",
       "      <td>0.521500</td>\n",
       "      <td>32.046500</td>\n",
       "      <td>0.501750</td>\n",
       "      <td>140.249000</td>\n",
       "      <td>4.520500</td>\n",
       "      <td>...</td>\n",
       "      <td>645.108000</td>\n",
       "      <td>1251.515500</td>\n",
       "      <td>2124.213000</td>\n",
       "      <td>12.306500</td>\n",
       "      <td>5.767000</td>\n",
       "      <td>11.011000</td>\n",
       "      <td>0.761500</td>\n",
       "      <td>0.503000</td>\n",
       "      <td>0.507000</td>\n",
       "      <td>1.500000</td>\n",
       "    </tr>\n",
       "    <tr>\n",
       "      <th>std</th>\n",
       "      <td>439.418206</td>\n",
       "      <td>0.5001</td>\n",
       "      <td>0.816004</td>\n",
       "      <td>0.500035</td>\n",
       "      <td>4.341444</td>\n",
       "      <td>0.499662</td>\n",
       "      <td>18.145715</td>\n",
       "      <td>0.288416</td>\n",
       "      <td>35.399655</td>\n",
       "      <td>2.287837</td>\n",
       "      <td>...</td>\n",
       "      <td>443.780811</td>\n",
       "      <td>432.199447</td>\n",
       "      <td>1084.732044</td>\n",
       "      <td>4.213245</td>\n",
       "      <td>4.356398</td>\n",
       "      <td>5.463955</td>\n",
       "      <td>0.426273</td>\n",
       "      <td>0.500116</td>\n",
       "      <td>0.500076</td>\n",
       "      <td>1.118314</td>\n",
       "    </tr>\n",
       "    <tr>\n",
       "      <th>min</th>\n",
       "      <td>501.000000</td>\n",
       "      <td>0.0000</td>\n",
       "      <td>0.500000</td>\n",
       "      <td>0.000000</td>\n",
       "      <td>0.000000</td>\n",
       "      <td>0.000000</td>\n",
       "      <td>2.000000</td>\n",
       "      <td>0.100000</td>\n",
       "      <td>80.000000</td>\n",
       "      <td>1.000000</td>\n",
       "      <td>...</td>\n",
       "      <td>0.000000</td>\n",
       "      <td>500.000000</td>\n",
       "      <td>256.000000</td>\n",
       "      <td>5.000000</td>\n",
       "      <td>0.000000</td>\n",
       "      <td>2.000000</td>\n",
       "      <td>0.000000</td>\n",
       "      <td>0.000000</td>\n",
       "      <td>0.000000</td>\n",
       "      <td>0.000000</td>\n",
       "    </tr>\n",
       "    <tr>\n",
       "      <th>25%</th>\n",
       "      <td>851.750000</td>\n",
       "      <td>0.0000</td>\n",
       "      <td>0.700000</td>\n",
       "      <td>0.000000</td>\n",
       "      <td>1.000000</td>\n",
       "      <td>0.000000</td>\n",
       "      <td>16.000000</td>\n",
       "      <td>0.200000</td>\n",
       "      <td>109.000000</td>\n",
       "      <td>3.000000</td>\n",
       "      <td>...</td>\n",
       "      <td>282.750000</td>\n",
       "      <td>874.750000</td>\n",
       "      <td>1207.500000</td>\n",
       "      <td>9.000000</td>\n",
       "      <td>2.000000</td>\n",
       "      <td>6.000000</td>\n",
       "      <td>1.000000</td>\n",
       "      <td>0.000000</td>\n",
       "      <td>0.000000</td>\n",
       "      <td>0.750000</td>\n",
       "    </tr>\n",
       "    <tr>\n",
       "      <th>50%</th>\n",
       "      <td>1226.000000</td>\n",
       "      <td>0.0000</td>\n",
       "      <td>1.500000</td>\n",
       "      <td>1.000000</td>\n",
       "      <td>3.000000</td>\n",
       "      <td>1.000000</td>\n",
       "      <td>32.000000</td>\n",
       "      <td>0.500000</td>\n",
       "      <td>141.000000</td>\n",
       "      <td>4.000000</td>\n",
       "      <td>...</td>\n",
       "      <td>564.000000</td>\n",
       "      <td>1247.000000</td>\n",
       "      <td>2146.500000</td>\n",
       "      <td>12.000000</td>\n",
       "      <td>5.000000</td>\n",
       "      <td>11.000000</td>\n",
       "      <td>1.000000</td>\n",
       "      <td>1.000000</td>\n",
       "      <td>1.000000</td>\n",
       "      <td>1.500000</td>\n",
       "    </tr>\n",
       "    <tr>\n",
       "      <th>75%</th>\n",
       "      <td>1615.250000</td>\n",
       "      <td>1.0000</td>\n",
       "      <td>2.200000</td>\n",
       "      <td>1.000000</td>\n",
       "      <td>7.000000</td>\n",
       "      <td>1.000000</td>\n",
       "      <td>48.000000</td>\n",
       "      <td>0.800000</td>\n",
       "      <td>170.000000</td>\n",
       "      <td>7.000000</td>\n",
       "      <td>...</td>\n",
       "      <td>947.250000</td>\n",
       "      <td>1633.000000</td>\n",
       "      <td>3064.500000</td>\n",
       "      <td>16.000000</td>\n",
       "      <td>9.000000</td>\n",
       "      <td>16.000000</td>\n",
       "      <td>1.000000</td>\n",
       "      <td>1.000000</td>\n",
       "      <td>1.000000</td>\n",
       "      <td>2.250000</td>\n",
       "    </tr>\n",
       "    <tr>\n",
       "      <th>max</th>\n",
       "      <td>1998.000000</td>\n",
       "      <td>1.0000</td>\n",
       "      <td>3.000000</td>\n",
       "      <td>1.000000</td>\n",
       "      <td>19.000000</td>\n",
       "      <td>1.000000</td>\n",
       "      <td>64.000000</td>\n",
       "      <td>1.000000</td>\n",
       "      <td>200.000000</td>\n",
       "      <td>8.000000</td>\n",
       "      <td>...</td>\n",
       "      <td>1960.000000</td>\n",
       "      <td>1998.000000</td>\n",
       "      <td>3998.000000</td>\n",
       "      <td>19.000000</td>\n",
       "      <td>18.000000</td>\n",
       "      <td>20.000000</td>\n",
       "      <td>1.000000</td>\n",
       "      <td>1.000000</td>\n",
       "      <td>1.000000</td>\n",
       "      <td>3.000000</td>\n",
       "    </tr>\n",
       "  </tbody>\n",
       "</table>\n",
       "<p>8 rows × 21 columns</p>\n",
       "</div>"
      ],
      "text/plain": [
       "       battery_power       blue  clock_speed     dual_sim           fc  \\\n",
       "count    2000.000000  2000.0000  2000.000000  2000.000000  2000.000000   \n",
       "mean     1238.518500     0.4950     1.522250     0.509500     4.309500   \n",
       "std       439.418206     0.5001     0.816004     0.500035     4.341444   \n",
       "min       501.000000     0.0000     0.500000     0.000000     0.000000   \n",
       "25%       851.750000     0.0000     0.700000     0.000000     1.000000   \n",
       "50%      1226.000000     0.0000     1.500000     1.000000     3.000000   \n",
       "75%      1615.250000     1.0000     2.200000     1.000000     7.000000   \n",
       "max      1998.000000     1.0000     3.000000     1.000000    19.000000   \n",
       "\n",
       "            four_g   int_memory        m_dep    mobile_wt      n_cores  ...  \\\n",
       "count  2000.000000  2000.000000  2000.000000  2000.000000  2000.000000  ...   \n",
       "mean      0.521500    32.046500     0.501750   140.249000     4.520500  ...   \n",
       "std       0.499662    18.145715     0.288416    35.399655     2.287837  ...   \n",
       "min       0.000000     2.000000     0.100000    80.000000     1.000000  ...   \n",
       "25%       0.000000    16.000000     0.200000   109.000000     3.000000  ...   \n",
       "50%       1.000000    32.000000     0.500000   141.000000     4.000000  ...   \n",
       "75%       1.000000    48.000000     0.800000   170.000000     7.000000  ...   \n",
       "max       1.000000    64.000000     1.000000   200.000000     8.000000  ...   \n",
       "\n",
       "         px_height     px_width          ram         sc_h         sc_w  \\\n",
       "count  2000.000000  2000.000000  2000.000000  2000.000000  2000.000000   \n",
       "mean    645.108000  1251.515500  2124.213000    12.306500     5.767000   \n",
       "std     443.780811   432.199447  1084.732044     4.213245     4.356398   \n",
       "min       0.000000   500.000000   256.000000     5.000000     0.000000   \n",
       "25%     282.750000   874.750000  1207.500000     9.000000     2.000000   \n",
       "50%     564.000000  1247.000000  2146.500000    12.000000     5.000000   \n",
       "75%     947.250000  1633.000000  3064.500000    16.000000     9.000000   \n",
       "max    1960.000000  1998.000000  3998.000000    19.000000    18.000000   \n",
       "\n",
       "         talk_time      three_g  touch_screen         wifi  price_range  \n",
       "count  2000.000000  2000.000000   2000.000000  2000.000000  2000.000000  \n",
       "mean     11.011000     0.761500      0.503000     0.507000     1.500000  \n",
       "std       5.463955     0.426273      0.500116     0.500076     1.118314  \n",
       "min       2.000000     0.000000      0.000000     0.000000     0.000000  \n",
       "25%       6.000000     1.000000      0.000000     0.000000     0.750000  \n",
       "50%      11.000000     1.000000      1.000000     1.000000     1.500000  \n",
       "75%      16.000000     1.000000      1.000000     1.000000     2.250000  \n",
       "max      20.000000     1.000000      1.000000     1.000000     3.000000  \n",
       "\n",
       "[8 rows x 21 columns]"
      ]
     },
     "execution_count": 110,
     "metadata": {},
     "output_type": "execute_result"
    }
   ],
   "source": [
    "training_set.describe()"
   ]
  },
  {
   "cell_type": "markdown",
   "id": "2502b49e",
   "metadata": {},
   "source": [
    "##### Dans cette description, on a calculer le nombre de lignes , la moyenne, l'ecart type, la valeur minimale et d'autres quantitées pour l'ensemble des features."
   ]
  },
  {
   "cell_type": "markdown",
   "id": "3c745bda",
   "metadata": {},
   "source": [
    "### Afficher les noms des columns du datasets :"
   ]
  },
  {
   "cell_type": "code",
   "execution_count": 111,
   "id": "6be2d9db",
   "metadata": {},
   "outputs": [
    {
     "data": {
      "text/plain": [
       "Index(['battery_power', 'blue', 'clock_speed', 'dual_sim', 'fc', 'four_g',\n",
       "       'int_memory', 'm_dep', 'mobile_wt', 'n_cores', 'pc', 'px_height',\n",
       "       'px_width', 'ram', 'sc_h', 'sc_w', 'talk_time', 'three_g',\n",
       "       'touch_screen', 'wifi', 'price_range'],\n",
       "      dtype='object')"
      ]
     },
     "execution_count": 111,
     "metadata": {},
     "output_type": "execute_result"
    }
   ],
   "source": [
    "training_set.columns"
   ]
  },
  {
   "cell_type": "markdown",
   "id": "09b36bec",
   "metadata": {},
   "source": [
    "### Afficher le type des columns du datasets :"
   ]
  },
  {
   "cell_type": "code",
   "execution_count": 112,
   "id": "71cd4f5c",
   "metadata": {},
   "outputs": [
    {
     "data": {
      "text/plain": [
       "battery_power      int64\n",
       "blue               int64\n",
       "clock_speed      float64\n",
       "dual_sim           int64\n",
       "fc                 int64\n",
       "four_g             int64\n",
       "int_memory         int64\n",
       "m_dep            float64\n",
       "mobile_wt          int64\n",
       "n_cores            int64\n",
       "pc                 int64\n",
       "px_height          int64\n",
       "px_width           int64\n",
       "ram                int64\n",
       "sc_h               int64\n",
       "sc_w               int64\n",
       "talk_time          int64\n",
       "three_g            int64\n",
       "touch_screen       int64\n",
       "wifi               int64\n",
       "price_range        int64\n",
       "dtype: object"
      ]
     },
     "execution_count": 112,
     "metadata": {},
     "output_type": "execute_result"
    }
   ],
   "source": [
    "training_set.dtypes"
   ]
  },
  {
   "cell_type": "markdown",
   "id": "d223e4f3",
   "metadata": {},
   "source": [
    "### Vérification des valeurs nulles :"
   ]
  },
  {
   "cell_type": "code",
   "execution_count": 113,
   "id": "e631222e",
   "metadata": {},
   "outputs": [
    {
     "data": {
      "text/plain": [
       "battery_power    0\n",
       "blue             0\n",
       "clock_speed      0\n",
       "dual_sim         0\n",
       "fc               0\n",
       "four_g           0\n",
       "int_memory       0\n",
       "m_dep            0\n",
       "mobile_wt        0\n",
       "n_cores          0\n",
       "pc               0\n",
       "px_height        0\n",
       "px_width         0\n",
       "ram              0\n",
       "sc_h             0\n",
       "sc_w             0\n",
       "talk_time        0\n",
       "three_g          0\n",
       "touch_screen     0\n",
       "wifi             0\n",
       "price_range      0\n",
       "dtype: int64"
      ]
     },
     "execution_count": 113,
     "metadata": {},
     "output_type": "execute_result"
    }
   ],
   "source": [
    "training_set.isnull().sum()"
   ]
  },
  {
   "cell_type": "markdown",
   "id": "d0253853",
   "metadata": {},
   "source": [
    "##### ==> Comme vous voiyez nous n'avons aucune donnée perdu ."
   ]
  },
  {
   "cell_type": "markdown",
   "id": "367a591c",
   "metadata": {},
   "source": [
    "### Informations sur data :"
   ]
  },
  {
   "cell_type": "code",
   "execution_count": 114,
   "id": "a83fb103",
   "metadata": {},
   "outputs": [
    {
     "name": "stdout",
     "output_type": "stream",
     "text": [
      "<class 'pandas.core.frame.DataFrame'>\n",
      "RangeIndex: 2000 entries, 0 to 1999\n",
      "Data columns (total 21 columns):\n",
      " #   Column         Non-Null Count  Dtype  \n",
      "---  ------         --------------  -----  \n",
      " 0   battery_power  2000 non-null   int64  \n",
      " 1   blue           2000 non-null   int64  \n",
      " 2   clock_speed    2000 non-null   float64\n",
      " 3   dual_sim       2000 non-null   int64  \n",
      " 4   fc             2000 non-null   int64  \n",
      " 5   four_g         2000 non-null   int64  \n",
      " 6   int_memory     2000 non-null   int64  \n",
      " 7   m_dep          2000 non-null   float64\n",
      " 8   mobile_wt      2000 non-null   int64  \n",
      " 9   n_cores        2000 non-null   int64  \n",
      " 10  pc             2000 non-null   int64  \n",
      " 11  px_height      2000 non-null   int64  \n",
      " 12  px_width       2000 non-null   int64  \n",
      " 13  ram            2000 non-null   int64  \n",
      " 14  sc_h           2000 non-null   int64  \n",
      " 15  sc_w           2000 non-null   int64  \n",
      " 16  talk_time      2000 non-null   int64  \n",
      " 17  three_g        2000 non-null   int64  \n",
      " 18  touch_screen   2000 non-null   int64  \n",
      " 19  wifi           2000 non-null   int64  \n",
      " 20  price_range    2000 non-null   int64  \n",
      "dtypes: float64(2), int64(19)\n",
      "memory usage: 328.3 KB\n"
     ]
    }
   ],
   "source": [
    "training_set.info()"
   ]
  },
  {
   "cell_type": "markdown",
   "id": "9b1d9748",
   "metadata": {},
   "source": [
    "# --------------Application de la regression sur price_range---------------"
   ]
  },
  {
   "cell_type": "code",
   "execution_count": 115,
   "id": "926dd3ce",
   "metadata": {},
   "outputs": [],
   "source": [
    "#spécifie le modèle, en utilisant la méthode des moindres carrés ordinaires (OLS) via smf.ols()\n",
    "reg_multi = smf.ols(' price_range~ battery_power+ blue+clock_speed+dual_sim+fc+four_g+int_memory+m_dep+mobile_wt+n_cores+pc+px_height+px_width+ram+sc_h+sc_w+talk_time+three_g+touch_screen+wifi'\n",
    "                    , data=training_set).fit() #la methode fit() pour entraîner le modèle en utilisant les données d'entraînement"
   ]
  },
  {
   "cell_type": "code",
   "execution_count": 116,
   "id": "9f8942c3",
   "metadata": {},
   "outputs": [
    {
     "name": "stdout",
     "output_type": "stream",
     "text": [
      "                            OLS Regression Results                            \n",
      "==============================================================================\n",
      "Dep. Variable:            price_range   R-squared:                       0.919\n",
      "Model:                            OLS   Adj. R-squared:                  0.918\n",
      "Method:                 Least Squares   F-statistic:                     1117.\n",
      "Date:                Wed, 10 Jan 2024   Prob (F-statistic):               0.00\n",
      "Time:                        19:23:14   Log-Likelihood:                -552.26\n",
      "No. Observations:                2000   AIC:                             1147.\n",
      "Df Residuals:                    1979   BIC:                             1264.\n",
      "Df Model:                          20                                         \n",
      "Covariance Type:            nonrobust                                         \n",
      "=================================================================================\n",
      "                    coef    std err          t      P>|t|      [0.025      0.975]\n",
      "---------------------------------------------------------------------------------\n",
      "Intercept        -1.5750      0.062    -25.553      0.000      -1.696      -1.454\n",
      "battery_power     0.0005   1.64e-05     31.071      0.000       0.000       0.001\n",
      "blue             -0.0020      0.014     -0.141      0.888      -0.030       0.026\n",
      "clock_speed      -0.0121      0.009     -1.368      0.171      -0.029       0.005\n",
      "dual_sim         -0.0237      0.014     -1.644      0.100      -0.052       0.005\n",
      "fc                0.0009      0.002      0.432      0.666      -0.003       0.005\n",
      "four_g           -0.0015      0.018     -0.083      0.934      -0.036       0.033\n",
      "int_memory        0.0009      0.000      2.178      0.030    8.61e-05       0.002\n",
      "m_dep            -0.0100      0.025     -0.399      0.690      -0.059       0.039\n",
      "mobile_wt        -0.0009      0.000     -4.335      0.000      -0.001      -0.000\n",
      "n_cores           0.0018      0.003      0.579      0.563      -0.004       0.008\n",
      "pc                0.0001      0.002      0.083      0.934      -0.003       0.003\n",
      "px_height         0.0003   1.89e-05     14.626      0.000       0.000       0.000\n",
      "px_width          0.0003   1.94e-05     14.437      0.000       0.000       0.000\n",
      "ram               0.0009   6.64e-06    142.688      0.000       0.001       0.001\n",
      "sc_h              0.0011      0.002      0.575      0.565      -0.003       0.005\n",
      "sc_w             -0.0003      0.002     -0.171      0.864      -0.004       0.003\n",
      "talk_time         0.0004      0.001      0.276      0.783      -0.002       0.003\n",
      "three_g           0.0270      0.021      1.301      0.193      -0.014       0.068\n",
      "touch_screen     -0.0057      0.014     -0.397      0.691      -0.034       0.022\n",
      "wifi             -0.0214      0.014     -1.489      0.137      -0.050       0.007\n",
      "==============================================================================\n",
      "Omnibus:                      114.748   Durbin-Watson:                   1.976\n",
      "Prob(Omnibus):                  0.000   Jarque-Bera (JB):               43.786\n",
      "Skew:                           0.038   Prob(JB):                     3.10e-10\n",
      "Kurtosis:                       2.279   Cond. No.                     2.58e+04\n",
      "==============================================================================\n",
      "\n",
      "Notes:\n",
      "[1] Standard Errors assume that the covariance matrix of the errors is correctly specified.\n",
      "[2] The condition number is large, 2.58e+04. This might indicate that there are\n",
      "strong multicollinearity or other numerical problems.\n"
     ]
    }
   ],
   "source": [
    "#la méthode summary() est utilisée pour afficher un résumé détaillé des résultats de modèle.\n",
    "print(reg_multi.summary())"
   ]
  },
  {
   "cell_type": "markdown",
   "id": "89186c85",
   "metadata": {},
   "source": [
    "#####                  -R²=0.919 ce qui signifie une correlation lenaire positif entre les variables.\n",
    "#####                  -On observe les valeurs de P , on remarque qu'on a des valeurs superieur a 5% ."
   ]
  },
  {
   "cell_type": "markdown",
   "id": "85e50033",
   "metadata": {},
   "source": [
    "### Retirez les variables non significatives :"
   ]
  },
  {
   "cell_type": "code",
   "execution_count": 117,
   "id": "d3570174",
   "metadata": {},
   "outputs": [
    {
     "name": "stdout",
     "output_type": "stream",
     "text": [
      "R-squared: 0.91863\n",
      "Adjusted R-squared: 0.91781\n"
     ]
    }
   ],
   "source": [
    "r_squared = round(reg_multi.rsquared, 5)\n",
    "print(f\"R-squared: {r_squared}\")\n",
    "adj_r_squared = round(reg_multi.rsquared_adj, 5)\n",
    "print(f\"Adjusted R-squared: {adj_r_squared}\")"
   ]
  },
  {
   "cell_type": "markdown",
   "id": "29d31f80",
   "metadata": {},
   "source": [
    "#### Retirer pc :"
   ]
  },
  {
   "cell_type": "code",
   "execution_count": 118,
   "id": "b993e11d",
   "metadata": {},
   "outputs": [
    {
     "name": "stdout",
     "output_type": "stream",
     "text": [
      "                            OLS Regression Results                            \n",
      "==============================================================================\n",
      "Dep. Variable:            price_range   R-squared:                       0.919\n",
      "Model:                            OLS   Adj. R-squared:                  0.918\n",
      "Method:                 Least Squares   F-statistic:                     1117.\n",
      "Date:                Wed, 10 Jan 2024   Prob (F-statistic):               0.00\n",
      "Time:                        19:23:15   Log-Likelihood:                -552.26\n",
      "No. Observations:                2000   AIC:                             1147.\n",
      "Df Residuals:                    1979   BIC:                             1264.\n",
      "Df Model:                          20                                         \n",
      "Covariance Type:            nonrobust                                         \n",
      "=================================================================================\n",
      "                    coef    std err          t      P>|t|      [0.025      0.975]\n",
      "---------------------------------------------------------------------------------\n",
      "Intercept        -1.5750      0.062    -25.553      0.000      -1.696      -1.454\n",
      "battery_power     0.0005   1.64e-05     31.071      0.000       0.000       0.001\n",
      "blue             -0.0020      0.014     -0.141      0.888      -0.030       0.026\n",
      "clock_speed      -0.0121      0.009     -1.368      0.171      -0.029       0.005\n",
      "dual_sim         -0.0237      0.014     -1.644      0.100      -0.052       0.005\n",
      "fc                0.0009      0.002      0.432      0.666      -0.003       0.005\n",
      "four_g           -0.0015      0.018     -0.083      0.934      -0.036       0.033\n",
      "int_memory        0.0009      0.000      2.178      0.030    8.61e-05       0.002\n",
      "m_dep            -0.0100      0.025     -0.399      0.690      -0.059       0.039\n",
      "mobile_wt        -0.0009      0.000     -4.335      0.000      -0.001      -0.000\n",
      "n_cores           0.0018      0.003      0.579      0.563      -0.004       0.008\n",
      "pc                0.0001      0.002      0.083      0.934      -0.003       0.003\n",
      "px_height         0.0003   1.89e-05     14.626      0.000       0.000       0.000\n",
      "px_width          0.0003   1.94e-05     14.437      0.000       0.000       0.000\n",
      "ram               0.0009   6.64e-06    142.688      0.000       0.001       0.001\n",
      "sc_h              0.0011      0.002      0.575      0.565      -0.003       0.005\n",
      "sc_w             -0.0003      0.002     -0.171      0.864      -0.004       0.003\n",
      "talk_time         0.0004      0.001      0.276      0.783      -0.002       0.003\n",
      "three_g           0.0270      0.021      1.301      0.193      -0.014       0.068\n",
      "touch_screen     -0.0057      0.014     -0.397      0.691      -0.034       0.022\n",
      "wifi             -0.0214      0.014     -1.489      0.137      -0.050       0.007\n",
      "==============================================================================\n",
      "Omnibus:                      114.748   Durbin-Watson:                   1.976\n",
      "Prob(Omnibus):                  0.000   Jarque-Bera (JB):               43.786\n",
      "Skew:                           0.038   Prob(JB):                     3.10e-10\n",
      "Kurtosis:                       2.279   Cond. No.                     2.58e+04\n",
      "==============================================================================\n",
      "\n",
      "Notes:\n",
      "[1] Standard Errors assume that the covariance matrix of the errors is correctly specified.\n",
      "[2] The condition number is large, 2.58e+04. This might indicate that there are\n",
      "strong multicollinearity or other numerical problems.\n"
     ]
    }
   ],
   "source": [
    "# reg_multi = smf.ols(' price_range~ talk_time+sc_w+sc_h+battery_power+int_memory+clock_speed+n_cores+ram+touch_screen+wifi+three_g+blue+dual_sim+fc+four_g+m_dep+mobile_wt+px_height+px_width', data=training_set).fit()\n",
    "print(reg_multi.summary())"
   ]
  },
  {
   "cell_type": "markdown",
   "id": "1f1d76b0",
   "metadata": {},
   "source": [
    "#### Retirer four_g :"
   ]
  },
  {
   "cell_type": "code",
   "execution_count": 119,
   "id": "e8db7e2c",
   "metadata": {},
   "outputs": [
    {
     "name": "stdout",
     "output_type": "stream",
     "text": [
      "                            OLS Regression Results                            \n",
      "==============================================================================\n",
      "Dep. Variable:            price_range   R-squared:                       0.919\n",
      "Model:                            OLS   Adj. R-squared:                  0.918\n",
      "Method:                 Least Squares   F-statistic:                     1242.\n",
      "Date:                Wed, 10 Jan 2024   Prob (F-statistic):               0.00\n",
      "Time:                        19:23:16   Log-Likelihood:                -552.27\n",
      "No. Observations:                2000   AIC:                             1143.\n",
      "Df Residuals:                    1981   BIC:                             1249.\n",
      "Df Model:                          18                                         \n",
      "Covariance Type:            nonrobust                                         \n",
      "=================================================================================\n",
      "                    coef    std err          t      P>|t|      [0.025      0.975]\n",
      "---------------------------------------------------------------------------------\n",
      "Intercept        -1.5744      0.061    -25.752      0.000      -1.694      -1.455\n",
      "talk_time         0.0004      0.001      0.280      0.779      -0.002       0.003\n",
      "sc_w             -0.0003      0.002     -0.176      0.861      -0.004       0.003\n",
      "sc_h              0.0011      0.002      0.578      0.564      -0.003       0.005\n",
      "battery_power     0.0005   1.64e-05     31.091      0.000       0.000       0.001\n",
      "int_memory        0.0009      0.000      2.177      0.030    8.56e-05       0.002\n",
      "clock_speed      -0.0120      0.009     -1.368      0.171      -0.029       0.005\n",
      "n_cores           0.0018      0.003      0.582      0.560      -0.004       0.008\n",
      "ram               0.0009   6.63e-06    142.814      0.000       0.001       0.001\n",
      "touch_screen     -0.0057      0.014     -0.398      0.691      -0.034       0.022\n",
      "wifi             -0.0214      0.014     -1.489      0.137      -0.050       0.007\n",
      "three_g           0.0260      0.017      1.542      0.123      -0.007       0.059\n",
      "blue             -0.0021      0.014     -0.146      0.884      -0.030       0.026\n",
      "dual_sim         -0.0237      0.014     -1.646      0.100      -0.052       0.005\n",
      "fc                0.0011      0.002      0.637      0.524      -0.002       0.004\n",
      "m_dep            -0.0099      0.025     -0.397      0.691      -0.059       0.039\n",
      "mobile_wt        -0.0009      0.000     -4.336      0.000      -0.001      -0.000\n",
      "px_height         0.0003   1.89e-05     14.638      0.000       0.000       0.000\n",
      "px_width          0.0003   1.94e-05     14.449      0.000       0.000       0.000\n",
      "==============================================================================\n",
      "Omnibus:                      114.708   Durbin-Watson:                   1.976\n",
      "Prob(Omnibus):                  0.000   Jarque-Bera (JB):               43.773\n",
      "Skew:                           0.038   Prob(JB):                     3.12e-10\n",
      "Kurtosis:                       2.279   Cond. No.                     2.56e+04\n",
      "==============================================================================\n",
      "\n",
      "Notes:\n",
      "[1] Standard Errors assume that the covariance matrix of the errors is correctly specified.\n",
      "[2] The condition number is large, 2.56e+04. This might indicate that there are\n",
      "strong multicollinearity or other numerical problems.\n"
     ]
    }
   ],
   "source": [
    "reg_multi = smf.ols(' price_range~ talk_time+sc_w+sc_h+battery_power+int_memory+clock_speed+n_cores+ram+touch_screen+wifi+three_g+blue+dual_sim+fc+m_dep+mobile_wt+px_height+px_width', data=training_set).fit()\n",
    "print(reg_multi.summary())"
   ]
  },
  {
   "cell_type": "markdown",
   "id": "f4ff4b84",
   "metadata": {},
   "source": [
    "#### Retirer blue:"
   ]
  },
  {
   "cell_type": "code",
   "execution_count": 120,
   "id": "398846bc",
   "metadata": {},
   "outputs": [
    {
     "name": "stdout",
     "output_type": "stream",
     "text": [
      "                            OLS Regression Results                            \n",
      "==============================================================================\n",
      "Dep. Variable:            price_range   R-squared:                       0.919\n",
      "Model:                            OLS   Adj. R-squared:                  0.918\n",
      "Method:                 Least Squares   F-statistic:                     1316.\n",
      "Date:                Wed, 10 Jan 2024   Prob (F-statistic):               0.00\n",
      "Time:                        19:23:16   Log-Likelihood:                -552.28\n",
      "No. Observations:                2000   AIC:                             1141.\n",
      "Df Residuals:                    1982   BIC:                             1241.\n",
      "Df Model:                          17                                         \n",
      "Covariance Type:            nonrobust                                         \n",
      "=================================================================================\n",
      "                    coef    std err          t      P>|t|      [0.025      0.975]\n",
      "---------------------------------------------------------------------------------\n",
      "Intercept        -1.5753      0.061    -25.904      0.000      -1.695      -1.456\n",
      "talk_time         0.0004      0.001      0.279      0.781      -0.002       0.003\n",
      "sc_w             -0.0003      0.002     -0.176      0.860      -0.004       0.003\n",
      "sc_h              0.0011      0.002      0.578      0.563      -0.003       0.005\n",
      "battery_power     0.0005   1.64e-05     31.099      0.000       0.000       0.001\n",
      "int_memory        0.0009      0.000      2.173      0.030    8.41e-05       0.002\n",
      "clock_speed      -0.0121      0.009     -1.371      0.170      -0.029       0.005\n",
      "n_cores           0.0018      0.003      0.577      0.564      -0.004       0.008\n",
      "ram               0.0009   6.63e-06    142.889      0.000       0.001       0.001\n",
      "touch_screen     -0.0057      0.014     -0.400      0.689      -0.034       0.022\n",
      "wifi             -0.0214      0.014     -1.486      0.137      -0.050       0.007\n",
      "three_g           0.0261      0.017      1.547      0.122      -0.007       0.059\n",
      "dual_sim         -0.0238      0.014     -1.653      0.099      -0.052       0.004\n",
      "fc                0.0011      0.002      0.636      0.525      -0.002       0.004\n",
      "m_dep            -0.0099      0.025     -0.398      0.691      -0.059       0.039\n",
      "mobile_wt        -0.0009      0.000     -4.336      0.000      -0.001      -0.000\n",
      "px_height         0.0003   1.89e-05     14.641      0.000       0.000       0.000\n",
      "px_width          0.0003   1.93e-05     14.474      0.000       0.000       0.000\n",
      "==============================================================================\n",
      "Omnibus:                      114.522   Durbin-Watson:                   1.976\n",
      "Prob(Omnibus):                  0.000   Jarque-Bera (JB):               43.736\n",
      "Skew:                           0.038   Prob(JB):                     3.18e-10\n",
      "Kurtosis:                       2.280   Cond. No.                     2.54e+04\n",
      "==============================================================================\n",
      "\n",
      "Notes:\n",
      "[1] Standard Errors assume that the covariance matrix of the errors is correctly specified.\n",
      "[2] The condition number is large, 2.54e+04. This might indicate that there are\n",
      "strong multicollinearity or other numerical problems.\n"
     ]
    }
   ],
   "source": [
    "reg_multi = smf.ols(' price_range~ talk_time+sc_w+sc_h+battery_power+int_memory+clock_speed+n_cores+ram+touch_screen+wifi+three_g+dual_sim+fc+m_dep+mobile_wt+px_height+px_width', data=training_set).fit()\n",
    "print(reg_multi.summary())"
   ]
  },
  {
   "cell_type": "markdown",
   "id": "b22f56c4",
   "metadata": {},
   "source": [
    "#### Retirer sc_w :"
   ]
  },
  {
   "cell_type": "code",
   "execution_count": 121,
   "id": "5ddf5117",
   "metadata": {},
   "outputs": [
    {
     "name": "stdout",
     "output_type": "stream",
     "text": [
      "                            OLS Regression Results                            \n",
      "==============================================================================\n",
      "Dep. Variable:            price_range   R-squared:                       0.919\n",
      "Model:                            OLS   Adj. R-squared:                  0.918\n",
      "Method:                 Least Squares   F-statistic:                     1399.\n",
      "Date:                Wed, 10 Jan 2024   Prob (F-statistic):               0.00\n",
      "Time:                        19:23:17   Log-Likelihood:                -552.29\n",
      "No. Observations:                2000   AIC:                             1139.\n",
      "Df Residuals:                    1983   BIC:                             1234.\n",
      "Df Model:                          16                                         \n",
      "Covariance Type:            nonrobust                                         \n",
      "=================================================================================\n",
      "                    coef    std err          t      P>|t|      [0.025      0.975]\n",
      "---------------------------------------------------------------------------------\n",
      "Intercept        -1.5748      0.061    -25.929      0.000      -1.694      -1.456\n",
      "talk_time         0.0004      0.001      0.281      0.778      -0.002       0.003\n",
      "sc_h              0.0010      0.002      0.567      0.571      -0.002       0.004\n",
      "battery_power     0.0005   1.64e-05     31.108      0.000       0.000       0.001\n",
      "int_memory        0.0009      0.000      2.175      0.030    8.49e-05       0.002\n",
      "clock_speed      -0.0121      0.009     -1.374      0.170      -0.029       0.005\n",
      "n_cores           0.0018      0.003      0.573      0.567      -0.004       0.008\n",
      "ram               0.0009   6.62e-06    142.994      0.000       0.001       0.001\n",
      "touch_screen     -0.0058      0.014     -0.404      0.686      -0.034       0.022\n",
      "wifi             -0.0214      0.014     -1.491      0.136      -0.050       0.007\n",
      "three_g           0.0260      0.017      1.543      0.123      -0.007       0.059\n",
      "dual_sim         -0.0238      0.014     -1.651      0.099      -0.052       0.004\n",
      "fc                0.0011      0.002      0.637      0.524      -0.002       0.004\n",
      "m_dep            -0.0099      0.025     -0.397      0.691      -0.059       0.039\n",
      "mobile_wt        -0.0009      0.000     -4.337      0.000      -0.001      -0.000\n",
      "px_height         0.0003   1.89e-05     14.644      0.000       0.000       0.000\n",
      "px_width          0.0003   1.93e-05     14.477      0.000       0.000       0.000\n",
      "==============================================================================\n",
      "Omnibus:                      114.596   Durbin-Watson:                   1.976\n",
      "Prob(Omnibus):                  0.000   Jarque-Bera (JB):               43.740\n",
      "Skew:                           0.038   Prob(JB):                     3.18e-10\n",
      "Kurtosis:                       2.279   Cond. No.                     2.54e+04\n",
      "==============================================================================\n",
      "\n",
      "Notes:\n",
      "[1] Standard Errors assume that the covariance matrix of the errors is correctly specified.\n",
      "[2] The condition number is large, 2.54e+04. This might indicate that there are\n",
      "strong multicollinearity or other numerical problems.\n"
     ]
    }
   ],
   "source": [
    "reg_multi = smf.ols(' price_range~ talk_time+sc_h+battery_power+int_memory+clock_speed+n_cores+ram+touch_screen+wifi+three_g+dual_sim+fc+m_dep+mobile_wt+px_height+px_width', data=training_set).fit()\n",
    "print(reg_multi.summary())"
   ]
  },
  {
   "cell_type": "markdown",
   "id": "994c77d7",
   "metadata": {},
   "source": [
    "#### Retirer talk_time :"
   ]
  },
  {
   "cell_type": "code",
   "execution_count": 122,
   "id": "a739562e",
   "metadata": {},
   "outputs": [
    {
     "name": "stdout",
     "output_type": "stream",
     "text": [
      "                            OLS Regression Results                            \n",
      "==============================================================================\n",
      "Dep. Variable:            price_range   R-squared:                       0.919\n",
      "Model:                            OLS   Adj. R-squared:                  0.918\n",
      "Method:                 Least Squares   F-statistic:                     1493.\n",
      "Date:                Wed, 10 Jan 2024   Prob (F-statistic):               0.00\n",
      "Time:                        19:23:17   Log-Likelihood:                -552.33\n",
      "No. Observations:                2000   AIC:                             1137.\n",
      "Df Residuals:                    1984   BIC:                             1226.\n",
      "Df Model:                          15                                         \n",
      "Covariance Type:            nonrobust                                         \n",
      "=================================================================================\n",
      "                    coef    std err          t      P>|t|      [0.025      0.975]\n",
      "---------------------------------------------------------------------------------\n",
      "Intercept        -1.5709      0.059    -26.597      0.000      -1.687      -1.455\n",
      "sc_h              0.0010      0.002      0.563      0.573      -0.002       0.004\n",
      "battery_power     0.0005   1.64e-05     31.172      0.000       0.000       0.001\n",
      "int_memory        0.0009      0.000      2.175      0.030    8.48e-05       0.002\n",
      "clock_speed      -0.0121      0.009     -1.379      0.168      -0.029       0.005\n",
      "n_cores           0.0018      0.003      0.576      0.565      -0.004       0.008\n",
      "ram               0.0009   6.62e-06    143.046      0.000       0.001       0.001\n",
      "touch_screen     -0.0057      0.014     -0.399      0.690      -0.034       0.022\n",
      "wifi             -0.0216      0.014     -1.500      0.134      -0.050       0.007\n",
      "three_g           0.0258      0.017      1.532      0.126      -0.007       0.059\n",
      "dual_sim         -0.0239      0.014     -1.663      0.096      -0.052       0.004\n",
      "fc                0.0010      0.002      0.635      0.525      -0.002       0.004\n",
      "m_dep            -0.0098      0.025     -0.394      0.694      -0.059       0.039\n",
      "mobile_wt        -0.0009      0.000     -4.336      0.000      -0.001      -0.000\n",
      "px_height         0.0003   1.89e-05     14.645      0.000       0.000       0.000\n",
      "px_width          0.0003   1.93e-05     14.487      0.000       0.000       0.000\n",
      "==============================================================================\n",
      "Omnibus:                      114.891   Durbin-Watson:                   1.976\n",
      "Prob(Omnibus):                  0.000   Jarque-Bera (JB):               43.807\n",
      "Skew:                           0.038   Prob(JB):                     3.07e-10\n",
      "Kurtosis:                       2.279   Cond. No.                     2.47e+04\n",
      "==============================================================================\n",
      "\n",
      "Notes:\n",
      "[1] Standard Errors assume that the covariance matrix of the errors is correctly specified.\n",
      "[2] The condition number is large, 2.47e+04. This might indicate that there are\n",
      "strong multicollinearity or other numerical problems.\n"
     ]
    }
   ],
   "source": [
    "reg_multi = smf.ols(' price_range~ sc_h+battery_power+int_memory+clock_speed+n_cores+ram+touch_screen+wifi+three_g+dual_sim+fc+m_dep+mobile_wt+px_height+px_width', data=training_set).fit()\n",
    "print(reg_multi.summary())"
   ]
  },
  {
   "cell_type": "markdown",
   "id": "4f113a57",
   "metadata": {},
   "source": [
    "#### Retirer m_dep :"
   ]
  },
  {
   "cell_type": "code",
   "execution_count": 123,
   "id": "b5424df7",
   "metadata": {},
   "outputs": [
    {
     "name": "stdout",
     "output_type": "stream",
     "text": [
      "                            OLS Regression Results                            \n",
      "==============================================================================\n",
      "Dep. Variable:            price_range   R-squared:                       0.919\n",
      "Model:                            OLS   Adj. R-squared:                  0.918\n",
      "Method:                 Least Squares   F-statistic:                     1600.\n",
      "Date:                Wed, 10 Jan 2024   Prob (F-statistic):               0.00\n",
      "Time:                        19:23:17   Log-Likelihood:                -552.41\n",
      "No. Observations:                2000   AIC:                             1135.\n",
      "Df Residuals:                    1985   BIC:                             1219.\n",
      "Df Model:                          14                                         \n",
      "Covariance Type:            nonrobust                                         \n",
      "=================================================================================\n",
      "                    coef    std err          t      P>|t|      [0.025      0.975]\n",
      "---------------------------------------------------------------------------------\n",
      "Intercept        -1.5756      0.058    -27.256      0.000      -1.689      -1.462\n",
      "sc_h              0.0010      0.002      0.573      0.566      -0.002       0.004\n",
      "battery_power     0.0005   1.63e-05     31.182      0.000       0.000       0.001\n",
      "int_memory        0.0009      0.000      2.172      0.030    8.37e-05       0.002\n",
      "clock_speed      -0.0121      0.009     -1.372      0.170      -0.029       0.005\n",
      "n_cores           0.0018      0.003      0.577      0.564      -0.004       0.008\n",
      "ram               0.0009   6.62e-06    143.083      0.000       0.001       0.001\n",
      "touch_screen     -0.0057      0.014     -0.399      0.690      -0.034       0.022\n",
      "wifi             -0.0214      0.014     -1.490      0.137      -0.050       0.007\n",
      "three_g           0.0259      0.017      1.537      0.124      -0.007       0.059\n",
      "dual_sim         -0.0238      0.014     -1.656      0.098      -0.052       0.004\n",
      "fc                0.0011      0.002      0.636      0.525      -0.002       0.004\n",
      "mobile_wt        -0.0009      0.000     -4.346      0.000      -0.001      -0.000\n",
      "px_height         0.0003   1.89e-05     14.644      0.000       0.000       0.000\n",
      "px_width          0.0003   1.93e-05     14.486      0.000       0.000       0.000\n",
      "==============================================================================\n",
      "Omnibus:                      115.859   Durbin-Watson:                   1.976\n",
      "Prob(Omnibus):                  0.000   Jarque-Bera (JB):               44.025\n",
      "Skew:                           0.038   Prob(JB):                     2.76e-10\n",
      "Kurtosis:                       2.277   Cond. No.                     2.41e+04\n",
      "==============================================================================\n",
      "\n",
      "Notes:\n",
      "[1] Standard Errors assume that the covariance matrix of the errors is correctly specified.\n",
      "[2] The condition number is large, 2.41e+04. This might indicate that there are\n",
      "strong multicollinearity or other numerical problems.\n"
     ]
    }
   ],
   "source": [
    "reg_multi = smf.ols(' price_range~ sc_h+battery_power+int_memory+clock_speed+n_cores+ram+touch_screen+wifi+three_g+dual_sim+fc+mobile_wt+px_height+px_width', data=training_set).fit()\n",
    "print(reg_multi.summary())"
   ]
  },
  {
   "cell_type": "markdown",
   "id": "3005b241",
   "metadata": {},
   "source": [
    "#### Retirer touch_screen :"
   ]
  },
  {
   "cell_type": "code",
   "execution_count": 124,
   "id": "b4612bbc",
   "metadata": {},
   "outputs": [
    {
     "name": "stdout",
     "output_type": "stream",
     "text": [
      "                            OLS Regression Results                            \n",
      "==============================================================================\n",
      "Dep. Variable:            price_range   R-squared:                       0.919\n",
      "Model:                            OLS   Adj. R-squared:                  0.918\n",
      "Method:                 Least Squares   F-statistic:                     1724.\n",
      "Date:                Wed, 10 Jan 2024   Prob (F-statistic):               0.00\n",
      "Time:                        19:23:18   Log-Likelihood:                -552.49\n",
      "No. Observations:                2000   AIC:                             1133.\n",
      "Df Residuals:                    1986   BIC:                             1211.\n",
      "Df Model:                          13                                         \n",
      "Covariance Type:            nonrobust                                         \n",
      "=================================================================================\n",
      "                    coef    std err          t      P>|t|      [0.025      0.975]\n",
      "---------------------------------------------------------------------------------\n",
      "Intercept        -1.5790      0.057    -27.615      0.000      -1.691      -1.467\n",
      "sc_h              0.0010      0.002      0.582      0.561      -0.002       0.004\n",
      "battery_power     0.0005   1.63e-05     31.196      0.000       0.000       0.001\n",
      "int_memory        0.0009      0.000      2.184      0.029    8.83e-05       0.002\n",
      "clock_speed      -0.0121      0.009     -1.382      0.167      -0.029       0.005\n",
      "n_cores           0.0018      0.003      0.568      0.570      -0.004       0.008\n",
      "ram               0.0009   6.62e-06    143.183      0.000       0.001       0.001\n",
      "wifi             -0.0215      0.014     -1.495      0.135      -0.050       0.007\n",
      "three_g           0.0258      0.017      1.531      0.126      -0.007       0.059\n",
      "dual_sim         -0.0237      0.014     -1.650      0.099      -0.052       0.004\n",
      "fc                0.0011      0.002      0.643      0.521      -0.002       0.004\n",
      "mobile_wt        -0.0009      0.000     -4.342      0.000      -0.001      -0.000\n",
      "px_height         0.0003   1.89e-05     14.641      0.000       0.000       0.000\n",
      "px_width          0.0003   1.93e-05     14.497      0.000       0.000       0.000\n",
      "==============================================================================\n",
      "Omnibus:                      115.967   Durbin-Watson:                   1.976\n",
      "Prob(Omnibus):                  0.000   Jarque-Bera (JB):               44.036\n",
      "Skew:                           0.037   Prob(JB):                     2.74e-10\n",
      "Kurtosis:                       2.277   Cond. No.                     2.39e+04\n",
      "==============================================================================\n",
      "\n",
      "Notes:\n",
      "[1] Standard Errors assume that the covariance matrix of the errors is correctly specified.\n",
      "[2] The condition number is large, 2.39e+04. This might indicate that there are\n",
      "strong multicollinearity or other numerical problems.\n"
     ]
    }
   ],
   "source": [
    "reg_multi = smf.ols(' price_range~ sc_h+battery_power+int_memory+clock_speed+n_cores+ram+wifi+three_g+dual_sim+fc+mobile_wt+px_height+px_width', data=training_set).fit()\n",
    "print(reg_multi.summary())"
   ]
  },
  {
   "cell_type": "markdown",
   "id": "9166fb04",
   "metadata": {},
   "source": [
    "#### Retirer n_cores :"
   ]
  },
  {
   "cell_type": "code",
   "execution_count": 125,
   "id": "51849437",
   "metadata": {},
   "outputs": [
    {
     "name": "stdout",
     "output_type": "stream",
     "text": [
      "                            OLS Regression Results                            \n",
      "==============================================================================\n",
      "Dep. Variable:            price_range   R-squared:                       0.919\n",
      "Model:                            OLS   Adj. R-squared:                  0.918\n",
      "Method:                 Least Squares   F-statistic:                     1869.\n",
      "Date:                Wed, 10 Jan 2024   Prob (F-statistic):               0.00\n",
      "Time:                        19:23:18   Log-Likelihood:                -552.65\n",
      "No. Observations:                2000   AIC:                             1131.\n",
      "Df Residuals:                    1987   BIC:                             1204.\n",
      "Df Model:                          12                                         \n",
      "Covariance Type:            nonrobust                                         \n",
      "=================================================================================\n",
      "                    coef    std err          t      P>|t|      [0.025      0.975]\n",
      "---------------------------------------------------------------------------------\n",
      "Intercept        -1.5700      0.055    -28.571      0.000      -1.678      -1.462\n",
      "sc_h              0.0010      0.002      0.582      0.561      -0.002       0.004\n",
      "battery_power     0.0005   1.63e-05     31.198      0.000       0.000       0.001\n",
      "int_memory        0.0009      0.000      2.169      0.030    8.21e-05       0.002\n",
      "clock_speed      -0.0122      0.009     -1.385      0.166      -0.029       0.005\n",
      "ram               0.0009   6.61e-06    143.214      0.000       0.001       0.001\n",
      "wifi             -0.0215      0.014     -1.501      0.134      -0.050       0.007\n",
      "three_g           0.0256      0.017      1.522      0.128      -0.007       0.059\n",
      "dual_sim         -0.0239      0.014     -1.667      0.096      -0.052       0.004\n",
      "fc                0.0010      0.002      0.635      0.526      -0.002       0.004\n",
      "mobile_wt        -0.0009      0.000     -4.354      0.000      -0.001      -0.000\n",
      "px_height         0.0003   1.88e-05     14.635      0.000       0.000       0.000\n",
      "px_width          0.0003   1.93e-05     14.526      0.000       0.000       0.000\n",
      "==============================================================================\n",
      "Omnibus:                      116.419   Durbin-Watson:                   1.976\n",
      "Prob(Omnibus):                  0.000   Jarque-Bera (JB):               44.154\n",
      "Skew:                           0.038   Prob(JB):                     2.58e-10\n",
      "Kurtosis:                       2.276   Cond. No.                     2.29e+04\n",
      "==============================================================================\n",
      "\n",
      "Notes:\n",
      "[1] Standard Errors assume that the covariance matrix of the errors is correctly specified.\n",
      "[2] The condition number is large, 2.29e+04. This might indicate that there are\n",
      "strong multicollinearity or other numerical problems.\n"
     ]
    }
   ],
   "source": [
    "reg_multi = smf.ols(' price_range~ sc_h+battery_power+int_memory+clock_speed+ram+wifi+three_g+dual_sim+fc+mobile_wt+px_height+px_width', data=training_set).fit()\n",
    "print(reg_multi.summary())"
   ]
  },
  {
   "cell_type": "markdown",
   "id": "06543167",
   "metadata": {},
   "source": [
    "#### Retirer sc_h :"
   ]
  },
  {
   "cell_type": "code",
   "execution_count": 126,
   "id": "e82d5cbd",
   "metadata": {},
   "outputs": [
    {
     "name": "stdout",
     "output_type": "stream",
     "text": [
      "                            OLS Regression Results                            \n",
      "==============================================================================\n",
      "Dep. Variable:            price_range   R-squared:                       0.919\n",
      "Model:                            OLS   Adj. R-squared:                  0.918\n",
      "Method:                 Least Squares   F-statistic:                     2039.\n",
      "Date:                Wed, 10 Jan 2024   Prob (F-statistic):               0.00\n",
      "Time:                        19:23:18   Log-Likelihood:                -552.82\n",
      "No. Observations:                2000   AIC:                             1130.\n",
      "Df Residuals:                    1988   BIC:                             1197.\n",
      "Df Model:                          11                                         \n",
      "Covariance Type:            nonrobust                                         \n",
      "=================================================================================\n",
      "                    coef    std err          t      P>|t|      [0.025      0.975]\n",
      "---------------------------------------------------------------------------------\n",
      "Intercept        -1.5574      0.051    -30.837      0.000      -1.656      -1.458\n",
      "battery_power     0.0005   1.63e-05     31.200      0.000       0.000       0.001\n",
      "int_memory        0.0009      0.000      2.191      0.029    9.07e-05       0.002\n",
      "clock_speed      -0.0123      0.009     -1.402      0.161      -0.030       0.005\n",
      "ram               0.0009   6.61e-06    143.266      0.000       0.001       0.001\n",
      "wifi             -0.0214      0.014     -1.489      0.137      -0.049       0.007\n",
      "three_g           0.0257      0.017      1.530      0.126      -0.007       0.059\n",
      "dual_sim         -0.0241      0.014     -1.675      0.094      -0.052       0.004\n",
      "fc                0.0010      0.002      0.630      0.529      -0.002       0.004\n",
      "mobile_wt        -0.0009      0.000     -4.376      0.000      -0.001      -0.000\n",
      "px_height         0.0003   1.88e-05     14.693      0.000       0.000       0.000\n",
      "px_width          0.0003   1.93e-05     14.523      0.000       0.000       0.000\n",
      "==============================================================================\n",
      "Omnibus:                      117.261   Durbin-Watson:                   1.975\n",
      "Prob(Omnibus):                  0.000   Jarque-Bera (JB):               44.341\n",
      "Skew:                           0.038   Prob(JB):                     2.35e-10\n",
      "Kurtosis:                       2.275   Cond. No.                     2.11e+04\n",
      "==============================================================================\n",
      "\n",
      "Notes:\n",
      "[1] Standard Errors assume that the covariance matrix of the errors is correctly specified.\n",
      "[2] The condition number is large, 2.11e+04. This might indicate that there are\n",
      "strong multicollinearity or other numerical problems.\n"
     ]
    }
   ],
   "source": [
    "reg_multi = smf.ols(' price_range~ battery_power+int_memory+clock_speed+ram+wifi+three_g+dual_sim+fc+mobile_wt+px_height+px_width', data=training_set).fit()\n",
    "print(reg_multi.summary())"
   ]
  },
  {
   "cell_type": "markdown",
   "id": "69ba3870",
   "metadata": {},
   "source": [
    "#### Retirer fc :"
   ]
  },
  {
   "cell_type": "code",
   "execution_count": 127,
   "id": "d31c2255",
   "metadata": {},
   "outputs": [
    {
     "name": "stdout",
     "output_type": "stream",
     "text": [
      "                            OLS Regression Results                            \n",
      "==============================================================================\n",
      "Dep. Variable:            price_range   R-squared:                       0.919\n",
      "Model:                            OLS   Adj. R-squared:                  0.918\n",
      "Method:                 Least Squares   F-statistic:                     2244.\n",
      "Date:                Wed, 10 Jan 2024   Prob (F-statistic):               0.00\n",
      "Time:                        19:23:19   Log-Likelihood:                -553.02\n",
      "No. Observations:                2000   AIC:                             1128.\n",
      "Df Residuals:                    1989   BIC:                             1190.\n",
      "Df Model:                          10                                         \n",
      "Covariance Type:            nonrobust                                         \n",
      "=================================================================================\n",
      "                    coef    std err          t      P>|t|      [0.025      0.975]\n",
      "---------------------------------------------------------------------------------\n",
      "Intercept        -1.5535      0.050    -30.996      0.000      -1.652      -1.455\n",
      "battery_power     0.0005   1.63e-05     31.241      0.000       0.000       0.001\n",
      "int_memory        0.0009      0.000      2.174      0.030    8.39e-05       0.002\n",
      "clock_speed      -0.0123      0.009     -1.402      0.161      -0.030       0.005\n",
      "ram               0.0009   6.61e-06    143.318      0.000       0.001       0.001\n",
      "wifi             -0.0212      0.014     -1.476      0.140      -0.049       0.007\n",
      "three_g           0.0257      0.017      1.531      0.126      -0.007       0.059\n",
      "dual_sim         -0.0243      0.014     -1.694      0.090      -0.052       0.004\n",
      "mobile_wt        -0.0009      0.000     -4.364      0.000      -0.001      -0.000\n",
      "px_height         0.0003   1.88e-05     14.689      0.000       0.000       0.000\n",
      "px_width          0.0003   1.93e-05     14.526      0.000       0.000       0.000\n",
      "==============================================================================\n",
      "Omnibus:                      115.964   Durbin-Watson:                   1.974\n",
      "Prob(Omnibus):                  0.000   Jarque-Bera (JB):               44.055\n",
      "Skew:                           0.038   Prob(JB):                     2.71e-10\n",
      "Kurtosis:                       2.277   Cond. No.                     2.10e+04\n",
      "==============================================================================\n",
      "\n",
      "Notes:\n",
      "[1] Standard Errors assume that the covariance matrix of the errors is correctly specified.\n",
      "[2] The condition number is large, 2.1e+04. This might indicate that there are\n",
      "strong multicollinearity or other numerical problems.\n"
     ]
    }
   ],
   "source": [
    " reg_multi = smf.ols(' price_range~ battery_power+int_memory+clock_speed+ram+wifi+three_g+dual_sim+mobile_wt+px_height+px_width', data=training_set).fit()\n",
    "print(reg_multi.summary())"
   ]
  },
  {
   "cell_type": "code",
   "execution_count": 128,
   "id": "81d01136",
   "metadata": {},
   "outputs": [
    {
     "name": "stdout",
     "output_type": "stream",
     "text": [
      "R-squared: 0.91857\n",
      "Adjusted R-squared: 0.91816\n"
     ]
    }
   ],
   "source": [
    "r_squared = round(reg_multi.rsquared, 5)\n",
    "print(f\"R-squared: {r_squared}\")\n",
    "adj_r_squared = round(reg_multi.rsquared_adj, 5)\n",
    "print(f\"Adjusted R-squared: {adj_r_squared}\")"
   ]
  },
  {
   "cell_type": "markdown",
   "id": "8cb36a56",
   "metadata": {},
   "source": [
    "##### On remarque que:\n",
    "#####    -tout les variables sont significatif \n",
    "   ###### -R²= 0.91857 et R² ajusté= 0.91816\n",
    " #### ==>donc on peut utiliser ce module à des fins de prévision"
   ]
  },
  {
   "cell_type": "code",
   "execution_count": 129,
   "id": "a388984f",
   "metadata": {},
   "outputs": [
    {
     "name": "stdout",
     "output_type": "stream",
     "text": [
      "1.3\n"
     ]
    }
   ],
   "source": [
    "a_prev = pd.DataFrame({'battery_power':842,'int_memory':7,'clock_speed':2.2,'ram':2549,'wifi':1,'three_g':0,'dual_sim':0,'mobile_wt':188,'px_height':20,'px_width':756}, index=[0])\n",
    "price_range = reg_multi.predict(a_prev)\n",
    "print(round(price_range[0], 2))"
   ]
  },
  {
   "cell_type": "markdown",
   "id": "90ea6599",
   "metadata": {},
   "source": [
    "#### --> Prédire une valeur de price_rang de 1.3"
   ]
  },
  {
   "cell_type": "markdown",
   "id": "8babbc41",
   "metadata": {},
   "source": [
    "## Analyse des résultats:"
   ]
  },
  {
   "cell_type": "markdown",
   "id": "0f472ef0",
   "metadata": {},
   "source": [
    "#### Calculer les leviers :"
   ]
  },
  {
   "cell_type": "code",
   "execution_count": 130,
   "id": "3c979b06",
   "metadata": {},
   "outputs": [
    {
     "data": {
      "image/png": "[encoded data removed]",
      "text/plain": [
       "<Figure size 3000x800 with 1 Axes>"
      ]
     },
     "metadata": {},
     "output_type": "display_data"
    }
   ],
   "source": [
    "alpha = 0.05 #niveau de confiance\n",
    "\n",
    "n = training_set.shape[0] # la taille de l'ensemble d'entraînement (training_set) \n",
    "\n",
    "p = 7 # nombre de prédicteurs ou variables indépendantes incluses dans le modèle de régression multiple\n",
    "\n",
    "analyses = pd.DataFrame({'obs':np.arange(1, n+1)})\n",
    "\n",
    "#Calculer les leviers\n",
    "\n",
    "analyses['levier'] = reg_multi.get_influence().hat_matrix_diag #Calcul des leviers : Les leviers sont des mesures qui évaluent l'influence de chaque observation sur la forme des estimations de régression. Ces leviers sont calculés à l'aide de la méthode reg_multi.get_influence().hat_matrix_diag.\n",
    "seuil_levier = 2*p/n #seuil_levier = 2*p/n : C'est un seuil pour les leviers. En général, un levier est considéré comme élevé s'il dépasse ce seuil. Ce seuil est calculé comme étant égal à 2 fois le nombre de prédicteurs divisé par le nombre d'observations.\n",
    "plt.figure(figsize=(30,8))\n",
    "plt.bar(analyses['obs'], analyses['levier'])\n",
    "plt.xticks(np.arange(0,2000, step=100))\n",
    "plt.xlabel('Observation')\n",
    "plt.ylabel('Leviers')\n",
    "plt.plot([0,2000], [seuil_levier, seuil_levier], color='r')\n",
    "plt.show()"
   ]
  },
  {
   "cell_type": "markdown",
   "id": "fd563c00",
   "metadata": {},
   "source": [
    "#### - ligne rouge représentant le seuil de levier. "
   ]
  },
  {
   "cell_type": "markdown",
   "id": "564dac1f",
   "metadata": {},
   "source": [
    "#### Retourne un DataFrame contenant uniquement les lignes où les valeurs dans la colonne 'levier' dépassent le seuil spécifié par seuil_levier :"
   ]
  },
  {
   "cell_type": "code",
   "execution_count": 131,
   "id": "0030c6c4",
   "metadata": {},
   "outputs": [
    {
     "data": {
      "text/html": [
       "<div>\n",
       "<style scoped>\n",
       "    .dataframe tbody tr th:only-of-type {\n",
       "        vertical-align: middle;\n",
       "    }\n",
       "\n",
       "    .dataframe tbody tr th {\n",
       "        vertical-align: top;\n",
       "    }\n",
       "\n",
       "    .dataframe thead th {\n",
       "        text-align: right;\n",
       "    }\n",
       "</style>\n",
       "<table border=\"1\" class=\"dataframe\">\n",
       "  <thead>\n",
       "    <tr style=\"text-align: right;\">\n",
       "      <th></th>\n",
       "      <th>obs</th>\n",
       "      <th>levier</th>\n",
       "    </tr>\n",
       "  </thead>\n",
       "  <tbody>\n",
       "    <tr>\n",
       "      <th>0</th>\n",
       "      <td>1</td>\n",
       "      <td>0.007093</td>\n",
       "    </tr>\n",
       "    <tr>\n",
       "      <th>9</th>\n",
       "      <td>10</td>\n",
       "      <td>0.007441</td>\n",
       "    </tr>\n",
       "    <tr>\n",
       "      <th>10</th>\n",
       "      <td>11</td>\n",
       "      <td>0.008289</td>\n",
       "    </tr>\n",
       "    <tr>\n",
       "      <th>14</th>\n",
       "      <td>15</td>\n",
       "      <td>0.007456</td>\n",
       "    </tr>\n",
       "    <tr>\n",
       "      <th>22</th>\n",
       "      <td>23</td>\n",
       "      <td>0.007739</td>\n",
       "    </tr>\n",
       "    <tr>\n",
       "      <th>...</th>\n",
       "      <td>...</td>\n",
       "      <td>...</td>\n",
       "    </tr>\n",
       "    <tr>\n",
       "      <th>1958</th>\n",
       "      <td>1959</td>\n",
       "      <td>0.007367</td>\n",
       "    </tr>\n",
       "    <tr>\n",
       "      <th>1967</th>\n",
       "      <td>1968</td>\n",
       "      <td>0.008646</td>\n",
       "    </tr>\n",
       "    <tr>\n",
       "      <th>1985</th>\n",
       "      <td>1986</td>\n",
       "      <td>0.007070</td>\n",
       "    </tr>\n",
       "    <tr>\n",
       "      <th>1989</th>\n",
       "      <td>1990</td>\n",
       "      <td>0.007915</td>\n",
       "    </tr>\n",
       "    <tr>\n",
       "      <th>1992</th>\n",
       "      <td>1993</td>\n",
       "      <td>0.007016</td>\n",
       "    </tr>\n",
       "  </tbody>\n",
       "</table>\n",
       "<p>312 rows × 2 columns</p>\n",
       "</div>"
      ],
      "text/plain": [
       "       obs    levier\n",
       "0        1  0.007093\n",
       "9       10  0.007441\n",
       "10      11  0.008289\n",
       "14      15  0.007456\n",
       "22      23  0.007739\n",
       "...    ...       ...\n",
       "1958  1959  0.007367\n",
       "1967  1968  0.008646\n",
       "1985  1986  0.007070\n",
       "1989  1990  0.007915\n",
       "1992  1993  0.007016\n",
       "\n",
       "[312 rows x 2 columns]"
      ]
     },
     "execution_count": 131,
     "metadata": {},
     "output_type": "execute_result"
    }
   ],
   "source": [
    "analyses.loc[analyses['levier'] > seuil_levier, :] "
   ]
  },
  {
   "cell_type": "markdown",
   "id": "85bcdd86",
   "metadata": {},
   "source": [
    "#### La comparaison des erreurs sur différentes observations peut aider à repérer les points de données qui pourraient avoir un effet disproportionné sur le modèle:\n"
   ]
  },
  {
   "cell_type": "code",
   "execution_count": 132,
   "id": "1619e4e3",
   "metadata": {},
   "outputs": [
    {
     "data": {
      "image/png": "[encoded data removed]",
      "text/plain": [
       "<Figure size 3000x800 with 1 Axes>"
      ]
     },
     "metadata": {},
     "output_type": "display_data"
    }
   ],
   "source": [
    "analyses['rstudent'] = reg_multi.get_influence().resid_studentized_internal\n",
    "seuil_rstudent = t.ppf(1-alpha/2,n-p-1)\n",
    "plt.figure(figsize=(30,8))\n",
    "plt.bar(analyses['obs'], analyses['rstudent'])\n",
    "plt.xticks(np.arange(0, 2000, step=100))\n",
    "plt.xlabel('Observation')\n",
    "plt.ylabel('Résidus studentisés')\n",
    "plt.plot([0, 2000], [seuil_rstudent, seuil_rstudent], color='r')\n",
    "plt.plot([0, 2000], [-seuil_rstudent, -seuil_rstudent], color='r')\n",
    "plt.show()"
   ]
  },
  {
   "cell_type": "markdown",
   "id": "74aa0cb4",
   "metadata": {},
   "source": [
    "#### Retourne un DataFrame contenant les observations dont les résidus studentisés dépassent les seuils positif ou négatif :\n"
   ]
  },
  {
   "cell_type": "code",
   "execution_count": 133,
   "id": "c9336d79",
   "metadata": {},
   "outputs": [
    {
     "data": {
      "text/html": [
       "<div>\n",
       "<style scoped>\n",
       "    .dataframe tbody tr th:only-of-type {\n",
       "        vertical-align: middle;\n",
       "    }\n",
       "\n",
       "    .dataframe tbody tr th {\n",
       "        vertical-align: top;\n",
       "    }\n",
       "\n",
       "    .dataframe thead th {\n",
       "        text-align: right;\n",
       "    }\n",
       "</style>\n",
       "<table border=\"1\" class=\"dataframe\">\n",
       "  <thead>\n",
       "    <tr style=\"text-align: right;\">\n",
       "      <th></th>\n",
       "      <th>obs</th>\n",
       "      <th>levier</th>\n",
       "      <th>rstudent</th>\n",
       "    </tr>\n",
       "  </thead>\n",
       "  <tbody>\n",
       "    <tr>\n",
       "      <th>20</th>\n",
       "      <td>21</td>\n",
       "      <td>0.005508</td>\n",
       "      <td>2.060796</td>\n",
       "    </tr>\n",
       "    <tr>\n",
       "      <th>72</th>\n",
       "      <td>73</td>\n",
       "      <td>0.005474</td>\n",
       "      <td>2.026855</td>\n",
       "    </tr>\n",
       "    <tr>\n",
       "      <th>106</th>\n",
       "      <td>107</td>\n",
       "      <td>0.004639</td>\n",
       "      <td>2.136169</td>\n",
       "    </tr>\n",
       "    <tr>\n",
       "      <th>168</th>\n",
       "      <td>169</td>\n",
       "      <td>0.005160</td>\n",
       "      <td>2.011555</td>\n",
       "    </tr>\n",
       "    <tr>\n",
       "      <th>177</th>\n",
       "      <td>178</td>\n",
       "      <td>0.004169</td>\n",
       "      <td>2.340128</td>\n",
       "    </tr>\n",
       "    <tr>\n",
       "      <th>219</th>\n",
       "      <td>220</td>\n",
       "      <td>0.009664</td>\n",
       "      <td>-2.731895</td>\n",
       "    </tr>\n",
       "    <tr>\n",
       "      <th>266</th>\n",
       "      <td>267</td>\n",
       "      <td>0.005317</td>\n",
       "      <td>2.037902</td>\n",
       "    </tr>\n",
       "    <tr>\n",
       "      <th>278</th>\n",
       "      <td>279</td>\n",
       "      <td>0.007413</td>\n",
       "      <td>2.490802</td>\n",
       "    </tr>\n",
       "    <tr>\n",
       "      <th>351</th>\n",
       "      <td>352</td>\n",
       "      <td>0.006666</td>\n",
       "      <td>2.160999</td>\n",
       "    </tr>\n",
       "    <tr>\n",
       "      <th>362</th>\n",
       "      <td>363</td>\n",
       "      <td>0.007953</td>\n",
       "      <td>-2.126421</td>\n",
       "    </tr>\n",
       "    <tr>\n",
       "      <th>374</th>\n",
       "      <td>375</td>\n",
       "      <td>0.004353</td>\n",
       "      <td>2.049476</td>\n",
       "    </tr>\n",
       "    <tr>\n",
       "      <th>392</th>\n",
       "      <td>393</td>\n",
       "      <td>0.007632</td>\n",
       "      <td>-2.360663</td>\n",
       "    </tr>\n",
       "    <tr>\n",
       "      <th>407</th>\n",
       "      <td>408</td>\n",
       "      <td>0.005231</td>\n",
       "      <td>-2.069511</td>\n",
       "    </tr>\n",
       "    <tr>\n",
       "      <th>411</th>\n",
       "      <td>412</td>\n",
       "      <td>0.006907</td>\n",
       "      <td>-2.385473</td>\n",
       "    </tr>\n",
       "    <tr>\n",
       "      <th>432</th>\n",
       "      <td>433</td>\n",
       "      <td>0.004852</td>\n",
       "      <td>2.028716</td>\n",
       "    </tr>\n",
       "    <tr>\n",
       "      <th>473</th>\n",
       "      <td>474</td>\n",
       "      <td>0.004916</td>\n",
       "      <td>-2.063975</td>\n",
       "    </tr>\n",
       "    <tr>\n",
       "      <th>479</th>\n",
       "      <td>480</td>\n",
       "      <td>0.005800</td>\n",
       "      <td>-2.188424</td>\n",
       "    </tr>\n",
       "    <tr>\n",
       "      <th>525</th>\n",
       "      <td>526</td>\n",
       "      <td>0.006820</td>\n",
       "      <td>-2.801786</td>\n",
       "    </tr>\n",
       "    <tr>\n",
       "      <th>588</th>\n",
       "      <td>589</td>\n",
       "      <td>0.007483</td>\n",
       "      <td>2.236430</td>\n",
       "    </tr>\n",
       "    <tr>\n",
       "      <th>601</th>\n",
       "      <td>602</td>\n",
       "      <td>0.005777</td>\n",
       "      <td>-2.089697</td>\n",
       "    </tr>\n",
       "    <tr>\n",
       "      <th>733</th>\n",
       "      <td>734</td>\n",
       "      <td>0.005681</td>\n",
       "      <td>2.341252</td>\n",
       "    </tr>\n",
       "    <tr>\n",
       "      <th>770</th>\n",
       "      <td>771</td>\n",
       "      <td>0.009580</td>\n",
       "      <td>-3.281187</td>\n",
       "    </tr>\n",
       "    <tr>\n",
       "      <th>776</th>\n",
       "      <td>777</td>\n",
       "      <td>0.003225</td>\n",
       "      <td>-1.997108</td>\n",
       "    </tr>\n",
       "    <tr>\n",
       "      <th>819</th>\n",
       "      <td>820</td>\n",
       "      <td>0.004725</td>\n",
       "      <td>-1.972897</td>\n",
       "    </tr>\n",
       "    <tr>\n",
       "      <th>824</th>\n",
       "      <td>825</td>\n",
       "      <td>0.005887</td>\n",
       "      <td>2.290384</td>\n",
       "    </tr>\n",
       "    <tr>\n",
       "      <th>833</th>\n",
       "      <td>834</td>\n",
       "      <td>0.004827</td>\n",
       "      <td>2.051088</td>\n",
       "    </tr>\n",
       "    <tr>\n",
       "      <th>877</th>\n",
       "      <td>878</td>\n",
       "      <td>0.004571</td>\n",
       "      <td>2.220192</td>\n",
       "    </tr>\n",
       "    <tr>\n",
       "      <th>961</th>\n",
       "      <td>962</td>\n",
       "      <td>0.008995</td>\n",
       "      <td>-2.689370</td>\n",
       "    </tr>\n",
       "    <tr>\n",
       "      <th>976</th>\n",
       "      <td>977</td>\n",
       "      <td>0.005863</td>\n",
       "      <td>-2.272110</td>\n",
       "    </tr>\n",
       "    <tr>\n",
       "      <th>998</th>\n",
       "      <td>999</td>\n",
       "      <td>0.002946</td>\n",
       "      <td>2.113036</td>\n",
       "    </tr>\n",
       "    <tr>\n",
       "      <th>1017</th>\n",
       "      <td>1018</td>\n",
       "      <td>0.006327</td>\n",
       "      <td>2.022953</td>\n",
       "    </tr>\n",
       "    <tr>\n",
       "      <th>1100</th>\n",
       "      <td>1101</td>\n",
       "      <td>0.004635</td>\n",
       "      <td>-2.225596</td>\n",
       "    </tr>\n",
       "    <tr>\n",
       "      <th>1119</th>\n",
       "      <td>1120</td>\n",
       "      <td>0.004001</td>\n",
       "      <td>2.004426</td>\n",
       "    </tr>\n",
       "    <tr>\n",
       "      <th>1262</th>\n",
       "      <td>1263</td>\n",
       "      <td>0.006150</td>\n",
       "      <td>-2.023405</td>\n",
       "    </tr>\n",
       "    <tr>\n",
       "      <th>1292</th>\n",
       "      <td>1293</td>\n",
       "      <td>0.003093</td>\n",
       "      <td>-2.001898</td>\n",
       "    </tr>\n",
       "    <tr>\n",
       "      <th>1316</th>\n",
       "      <td>1317</td>\n",
       "      <td>0.007587</td>\n",
       "      <td>-2.258336</td>\n",
       "    </tr>\n",
       "    <tr>\n",
       "      <th>1378</th>\n",
       "      <td>1379</td>\n",
       "      <td>0.006755</td>\n",
       "      <td>2.122275</td>\n",
       "    </tr>\n",
       "    <tr>\n",
       "      <th>1431</th>\n",
       "      <td>1432</td>\n",
       "      <td>0.006404</td>\n",
       "      <td>-2.026858</td>\n",
       "    </tr>\n",
       "    <tr>\n",
       "      <th>1527</th>\n",
       "      <td>1528</td>\n",
       "      <td>0.005483</td>\n",
       "      <td>2.299980</td>\n",
       "    </tr>\n",
       "    <tr>\n",
       "      <th>1615</th>\n",
       "      <td>1616</td>\n",
       "      <td>0.008352</td>\n",
       "      <td>-2.093123</td>\n",
       "    </tr>\n",
       "    <tr>\n",
       "      <th>1666</th>\n",
       "      <td>1667</td>\n",
       "      <td>0.004300</td>\n",
       "      <td>2.259481</td>\n",
       "    </tr>\n",
       "    <tr>\n",
       "      <th>1734</th>\n",
       "      <td>1735</td>\n",
       "      <td>0.008769</td>\n",
       "      <td>-2.161308</td>\n",
       "    </tr>\n",
       "    <tr>\n",
       "      <th>1741</th>\n",
       "      <td>1742</td>\n",
       "      <td>0.003404</td>\n",
       "      <td>-2.034157</td>\n",
       "    </tr>\n",
       "    <tr>\n",
       "      <th>1745</th>\n",
       "      <td>1746</td>\n",
       "      <td>0.006173</td>\n",
       "      <td>2.165884</td>\n",
       "    </tr>\n",
       "    <tr>\n",
       "      <th>1758</th>\n",
       "      <td>1759</td>\n",
       "      <td>0.007776</td>\n",
       "      <td>2.300469</td>\n",
       "    </tr>\n",
       "    <tr>\n",
       "      <th>1778</th>\n",
       "      <td>1779</td>\n",
       "      <td>0.007831</td>\n",
       "      <td>2.524144</td>\n",
       "    </tr>\n",
       "    <tr>\n",
       "      <th>1791</th>\n",
       "      <td>1792</td>\n",
       "      <td>0.005186</td>\n",
       "      <td>-2.207297</td>\n",
       "    </tr>\n",
       "    <tr>\n",
       "      <th>1827</th>\n",
       "      <td>1828</td>\n",
       "      <td>0.009646</td>\n",
       "      <td>-2.617422</td>\n",
       "    </tr>\n",
       "  </tbody>\n",
       "</table>\n",
       "</div>"
      ],
      "text/plain": [
       "       obs    levier  rstudent\n",
       "20      21  0.005508  2.060796\n",
       "72      73  0.005474  2.026855\n",
       "106    107  0.004639  2.136169\n",
       "168    169  0.005160  2.011555\n",
       "177    178  0.004169  2.340128\n",
       "219    220  0.009664 -2.731895\n",
       "266    267  0.005317  2.037902\n",
       "278    279  0.007413  2.490802\n",
       "351    352  0.006666  2.160999\n",
       "362    363  0.007953 -2.126421\n",
       "374    375  0.004353  2.049476\n",
       "392    393  0.007632 -2.360663\n",
       "407    408  0.005231 -2.069511\n",
       "411    412  0.006907 -2.385473\n",
       "432    433  0.004852  2.028716\n",
       "473    474  0.004916 -2.063975\n",
       "479    480  0.005800 -2.188424\n",
       "525    526  0.006820 -2.801786\n",
       "588    589  0.007483  2.236430\n",
       "601    602  0.005777 -2.089697\n",
       "733    734  0.005681  2.341252\n",
       "770    771  0.009580 -3.281187\n",
       "776    777  0.003225 -1.997108\n",
       "819    820  0.004725 -1.972897\n",
       "824    825  0.005887  2.290384\n",
       "833    834  0.004827  2.051088\n",
       "877    878  0.004571  2.220192\n",
       "961    962  0.008995 -2.689370\n",
       "976    977  0.005863 -2.272110\n",
       "998    999  0.002946  2.113036\n",
       "1017  1018  0.006327  2.022953\n",
       "1100  1101  0.004635 -2.225596\n",
       "1119  1120  0.004001  2.004426\n",
       "1262  1263  0.006150 -2.023405\n",
       "1292  1293  0.003093 -2.001898\n",
       "1316  1317  0.007587 -2.258336\n",
       "1378  1379  0.006755  2.122275\n",
       "1431  1432  0.006404 -2.026858\n",
       "1527  1528  0.005483  2.299980\n",
       "1615  1616  0.008352 -2.093123\n",
       "1666  1667  0.004300  2.259481\n",
       "1734  1735  0.008769 -2.161308\n",
       "1741  1742  0.003404 -2.034157\n",
       "1745  1746  0.006173  2.165884\n",
       "1758  1759  0.007776  2.300469\n",
       "1778  1779  0.007831  2.524144\n",
       "1791  1792  0.005186 -2.207297\n",
       "1827  1828  0.009646 -2.617422"
      ]
     },
     "execution_count": 133,
     "metadata": {},
     "output_type": "execute_result"
    }
   ],
   "source": [
    "analyses.loc[(analyses['rstudent'] > seuil_rstudent )| (analyses['rstudent'] < -seuil_rstudent) , :]"
   ]
  },
  {
   "cell_type": "markdown",
   "id": "3fb324d6",
   "metadata": {},
   "source": [
    "#### Utilise le critère de Cook pour detecter les points influent :"
   ]
  },
  {
   "cell_type": "code",
   "execution_count": 134,
   "id": "23f8c00f",
   "metadata": {},
   "outputs": [
    {
     "data": {
      "image/png": "[encoded data removed]",
      "text/plain": [
       "<Figure size 3000x800 with 1 Axes>"
      ]
     },
     "metadata": {},
     "output_type": "display_data"
    }
   ],
   "source": [
    "#utilise le critère de Cook pour detecter les points influent :\n",
    "influence = reg_multi.get_influence().summary_frame()\n",
    "analyses['dcooks'] = influence['cooks_d']\n",
    "seuil_dcook = 4/(n-p)\n",
    "plt.figure(figsize=(30,8))\n",
    "plt.bar(analyses['obs'], analyses['dcooks'])\n",
    "plt.xticks(np.arange(0, 2000, step=100))\n",
    "plt.xlabel('Observation')\n",
    "plt.ylabel('Leviers')\n",
    "plt.plot([0, 2000], [seuil_dcook, seuil_dcook], color='r')\n",
    "plt.show()"
   ]
  },
  {
   "cell_type": "markdown",
   "id": "7551ae0d",
   "metadata": {},
   "source": [
    "##### Calculer les facteurs d'inflation de la variance (VIF) pour évaluer la multicollinéarité des variables dans un modèle de régression multiple:\n"
   ]
  },
  {
   "cell_type": "code",
   "execution_count": 135,
   "id": "5a55c8f9",
   "metadata": {},
   "outputs": [
    {
     "data": {
      "text/plain": [
       "[1.0026346555847374,\n",
       " 1.0031210534997308,\n",
       " 1.0033406266083194,\n",
       " 1.0042541128035651,\n",
       " 1.0044924120537717,\n",
       " 1.0042810031749403,\n",
       " 1.0057166447393733,\n",
       " 1.0014287319035262,\n",
       " 1.3607242390268506,\n",
       " 1.3555275713889596]"
      ]
     },
     "execution_count": 135,
     "metadata": {},
     "output_type": "execute_result"
    }
   ],
   "source": [
    "variables = reg_multi.model.exog\n",
    "[variance_inflation_factor(variables, i) for i in np.arange(1,variables.shape[1])]"
   ]
  },
  {
   "cell_type": "markdown",
   "id": "0d8d478c",
   "metadata": {},
   "source": [
    "#### ==>Tout les variables sont inférieur a 10 donc on a pas un problém de coleniarité entre les variables :"
   ]
  },
  {
   "cell_type": "code",
   "execution_count": 136,
   "id": "7a9593e6",
   "metadata": {},
   "outputs": [
    {
     "name": "stdout",
     "output_type": "stream",
     "text": [
      "p value test Breusch Pagan: 4.0762070030907294e-07\n"
     ]
    }
   ],
   "source": [
    "#réalise le test de Breusch-Pagan pour évaluer l'hétéroscédasticité des résidus dans le modèle de régression multiple et imprime la valeur p associée à ce test, permettant ainsi de déterminer s'il y a des preuves statistiques d'hétéroscédasticité dans le modèle:\n",
    "_, pval, __, f_pval = statsmodels.stats.diagnostic.het_breuschpagan(reg_multi.resid, variables)\n",
    "print('p value test Breusch Pagan:', pval)"
   ]
  },
  {
   "cell_type": "markdown",
   "id": "7ba060aa",
   "metadata": {},
   "source": [
    "#### p value est significati ==> on rejete l'hupothése null carf "
   ]
  },
  {
   "cell_type": "code",
   "execution_count": 137,
   "id": "070e15f6",
   "metadata": {},
   "outputs": [
    {
     "data": {
      "text/plain": [
       "ShapiroResult(statistic=0.9885339140892029, pvalue=1.5773160555454524e-11)"
      ]
     },
     "execution_count": 137,
     "metadata": {},
     "output_type": "execute_result"
    }
   ],
   "source": [
    "#Le Test de Shapiro wilk pour la normalité des résidus\n",
    "shapiro(reg_multi.resid)"
   ]
  },
  {
   "cell_type": "markdown",
   "id": "533084c4",
   "metadata": {},
   "source": [
    "### on peut retirer l'hypothése NULL car p-value est significatif donc les résidus suivent la Loi Normal.\n",
    "\n"
   ]
  },
  {
   "cell_type": "markdown",
   "id": "5df82050",
   "metadata": {},
   "source": [
    "# ----------------------------------ACP----------------------------------"
   ]
  },
  {
   "cell_type": "markdown",
   "id": "bb74f8cd",
   "metadata": {},
   "source": [
    "### On élémine les colones qu'on ne va pas utiliser :"
   ]
  },
  {
   "cell_type": "code",
   "execution_count": 138,
   "id": "f77743f0",
   "metadata": {},
   "outputs": [],
   "source": [
    "data=training_set.drop([ 'talk_time','sc_w','sc_h','clock_speed','n_cores','touch_screen','wifi','three_g','blue','dual_sim','fc','four_g','m_dep','pc'], axis=1).head()"
   ]
  },
  {
   "cell_type": "markdown",
   "id": "3101911b",
   "metadata": {},
   "source": [
    "### Affichage des boites à moustache de chaque variable :"
   ]
  },
  {
   "cell_type": "code",
   "execution_count": 139,
   "id": "4c8c1267",
   "metadata": {},
   "outputs": [
    {
     "data": {
      "image/png": "[encoded data removed]",
      "text/plain": [
       "<Figure size 1000x1000 with 1 Axes>"
      ]
     },
     "metadata": {},
     "output_type": "display_data"
    }
   ],
   "source": [
    "boxplot =data.boxplot(figsize=(10,10))"
   ]
  },
  {
   "cell_type": "markdown",
   "id": "2223a86b",
   "metadata": {},
   "source": [
    "##### On remarque d'une part, q'il ya des grandes boites à moustaches donc il exist aussi des variables qui prennent des grandes valeurs (Variance fort),d'autre part il y a des petites boites à moustaches alors que ces variables prennent des petites valeurs et varient peu (variance faible)."
   ]
  },
  {
   "cell_type": "markdown",
   "id": "be0ecf42",
   "metadata": {},
   "source": [
    "### Graphe des données par paire de variables :"
   ]
  },
  {
   "cell_type": "code",
   "execution_count": 140,
   "id": "c6206b51",
   "metadata": {},
   "outputs": [
    {
     "data": {
      "image/png": "[encoded data removed]",
      "text/plain": [
       "<Figure size 1000x1000 with 49 Axes>"
      ]
     },
     "metadata": {},
     "output_type": "display_data"
    }
   ],
   "source": [
    "scatter_matrix(data, figsize=(10,10))\n",
    "plt.show()"
   ]
  },
  {
   "cell_type": "markdown",
   "id": "6939b3e9",
   "metadata": {},
   "source": [
    "##### Le graphe par paires des variable montre que la colenearité entre les variables est un peu faible :"
   ]
  },
  {
   "cell_type": "markdown",
   "id": "9bd64ba7",
   "metadata": {},
   "source": [
    "### Affichage de la matrice de correlation :"
   ]
  },
  {
   "cell_type": "code",
   "execution_count": 141,
   "id": "ab4d3200",
   "metadata": {},
   "outputs": [
    {
     "data": {
      "text/html": [
       "<div>\n",
       "<style scoped>\n",
       "    .dataframe tbody tr th:only-of-type {\n",
       "        vertical-align: middle;\n",
       "    }\n",
       "\n",
       "    .dataframe tbody tr th {\n",
       "        vertical-align: top;\n",
       "    }\n",
       "\n",
       "    .dataframe thead th {\n",
       "        text-align: right;\n",
       "    }\n",
       "</style>\n",
       "<table border=\"1\" class=\"dataframe\">\n",
       "  <thead>\n",
       "    <tr style=\"text-align: right;\">\n",
       "      <th></th>\n",
       "      <th>battery_power</th>\n",
       "      <th>int_memory</th>\n",
       "      <th>mobile_wt</th>\n",
       "      <th>px_height</th>\n",
       "      <th>px_width</th>\n",
       "      <th>ram</th>\n",
       "      <th>price_range</th>\n",
       "    </tr>\n",
       "  </thead>\n",
       "  <tbody>\n",
       "    <tr>\n",
       "      <th>battery_power</th>\n",
       "      <td>1.000000</td>\n",
       "      <td>0.435583</td>\n",
       "      <td>-0.095355</td>\n",
       "      <td>0.107690</td>\n",
       "      <td>-0.308554</td>\n",
       "      <td>-0.941427</td>\n",
       "      <td>-0.644496</td>\n",
       "    </tr>\n",
       "    <tr>\n",
       "      <th>int_memory</th>\n",
       "      <td>0.435583</td>\n",
       "      <td>1.000000</td>\n",
       "      <td>-0.513587</td>\n",
       "      <td>0.504118</td>\n",
       "      <td>0.498521</td>\n",
       "      <td>-0.365727</td>\n",
       "      <td>0.238680</td>\n",
       "    </tr>\n",
       "    <tr>\n",
       "      <th>mobile_wt</th>\n",
       "      <td>-0.095355</td>\n",
       "      <td>-0.513587</td>\n",
       "      <td>1.000000</td>\n",
       "      <td>-0.916054</td>\n",
       "      <td>-0.853980</td>\n",
       "      <td>0.063799</td>\n",
       "      <td>-0.650835</td>\n",
       "    </tr>\n",
       "    <tr>\n",
       "      <th>px_height</th>\n",
       "      <td>0.107690</td>\n",
       "      <td>0.504118</td>\n",
       "      <td>-0.916054</td>\n",
       "      <td>1.000000</td>\n",
       "      <td>0.703381</td>\n",
       "      <td>-0.209386</td>\n",
       "      <td>0.537245</td>\n",
       "    </tr>\n",
       "    <tr>\n",
       "      <th>px_width</th>\n",
       "      <td>-0.308554</td>\n",
       "      <td>0.498521</td>\n",
       "      <td>-0.853980</td>\n",
       "      <td>0.703381</td>\n",
       "      <td>1.000000</td>\n",
       "      <td>0.392267</td>\n",
       "      <td>0.925487</td>\n",
       "    </tr>\n",
       "    <tr>\n",
       "      <th>ram</th>\n",
       "      <td>-0.941427</td>\n",
       "      <td>-0.365727</td>\n",
       "      <td>0.063799</td>\n",
       "      <td>-0.209386</td>\n",
       "      <td>0.392267</td>\n",
       "      <td>1.000000</td>\n",
       "      <td>0.679014</td>\n",
       "    </tr>\n",
       "    <tr>\n",
       "      <th>price_range</th>\n",
       "      <td>-0.644496</td>\n",
       "      <td>0.238680</td>\n",
       "      <td>-0.650835</td>\n",
       "      <td>0.537245</td>\n",
       "      <td>0.925487</td>\n",
       "      <td>0.679014</td>\n",
       "      <td>1.000000</td>\n",
       "    </tr>\n",
       "  </tbody>\n",
       "</table>\n",
       "</div>"
      ],
      "text/plain": [
       "               battery_power  int_memory  mobile_wt  px_height  px_width  \\\n",
       "battery_power       1.000000    0.435583  -0.095355   0.107690 -0.308554   \n",
       "int_memory          0.435583    1.000000  -0.513587   0.504118  0.498521   \n",
       "mobile_wt          -0.095355   -0.513587   1.000000  -0.916054 -0.853980   \n",
       "px_height           0.107690    0.504118  -0.916054   1.000000  0.703381   \n",
       "px_width           -0.308554    0.498521  -0.853980   0.703381  1.000000   \n",
       "ram                -0.941427   -0.365727   0.063799  -0.209386  0.392267   \n",
       "price_range        -0.644496    0.238680  -0.650835   0.537245  0.925487   \n",
       "\n",
       "                    ram  price_range  \n",
       "battery_power -0.941427    -0.644496  \n",
       "int_memory    -0.365727     0.238680  \n",
       "mobile_wt      0.063799    -0.650835  \n",
       "px_height     -0.209386     0.537245  \n",
       "px_width       0.392267     0.925487  \n",
       "ram            1.000000     0.679014  \n",
       "price_range    0.679014     1.000000  "
      ]
     },
     "execution_count": 141,
     "metadata": {},
     "output_type": "execute_result"
    }
   ],
   "source": [
    "data.corr()\n"
   ]
  },
  {
   "cell_type": "code",
   "execution_count": 142,
   "id": "667620a5",
   "metadata": {},
   "outputs": [
    {
     "data": {
      "image/png": "[encoded data removed]",
      "text/plain": [
       "<Figure size 640x480 with 2 Axes>"
      ]
     },
     "metadata": {},
     "output_type": "display_data"
    }
   ],
   "source": [
    "corr=data.corr()\n",
    "ax = sns.heatmap(\n",
    "corr,\n",
    "vmin=-1, vmax=1, center=0, cmap=sns.diverging_palette(20, 220, n=200), square=True\n",
    ")\n",
    "ax.set_xticklabels(\n",
    "ax.get_xticklabels(), rotation=45, horizontalalignment='right'\n",
    ");"
   ]
  },
  {
   "cell_type": "markdown",
   "id": "be88adea",
   "metadata": {},
   "source": [
    "##### On remarque d'après la matrice de corrélation q'il y a une correlation forte entre les variables"
   ]
  },
  {
   "cell_type": "markdown",
   "id": "a7435466",
   "metadata": {},
   "source": [
    "### definir la fonction d'affichage du graphe \"cercle de correlation\" :"
   ]
  },
  {
   "cell_type": "code",
   "execution_count": 143,
   "id": "d62d6757",
   "metadata": {},
   "outputs": [],
   "source": [
    "def display_circles(pcs, n_comp, pca, axis_ranks, labels=None, label_rotation=0, lims=None):\n",
    "    for d1, d2 in axis_ranks:\n",
    "        # On affiche les 3 premiers plans factoriels, donc le s 6 premières composantes\n",
    "        if d2 < n_comp:\n",
    "            # initialisation de la figure\n",
    "            fig, ax = plt.subplots(figsize=(7,6))\n",
    "            \n",
    "            # détermination des limites du graphique\n",
    "            if lims is not None :\n",
    "                xmin, xmax, ymin, ymax = lims\n",
    "            elif pcs.shape[1] < 30 :\n",
    "                xmin, xmax, ymin, ymax = -1, 1, -1, 1\n",
    "            else :\n",
    "                xmin, xmax, ymin, ymax = min(pcs[d1,:]), max(pcs[d1,:]), min(pcs[d2,:]), max(pcs[d2,:])\n",
    "            # affichage des flèches\n",
    "            # s'il y a plus de 30 flèches, on n'affiche pas le triangle à leur extrémité\n",
    "            if pcs.shape[1] < 30 :\n",
    "                plt.quiver(np.zeros(pcs.shape[1]), np.zeros(pcs.shape[1]),pcs[d1,:], pcs[d2,:],angles='xy', scale_units='xy', scale=1, color=\"grey\")\n",
    "            else:\n",
    "                lines = [[[0,0],[x,y]] for x,y in pcs[[d1,d2]].T]\n",
    "                ax.add_collection(LineCollection(lines, axes=ax, alpha=.1, color='black'))\n",
    "            if labels is not None:\n",
    "                for i,(x, y) in enumerate(pcs[[d1,d2]].T):\n",
    "                    if x >= xmin and x <= xmax and y >= ymin and y <= ymax:\n",
    "                        plt.text(x, y, labels[i], fontsize='14', ha='center', va='center', rotation= label_rotation, color=\"blue\", alpha=0.5)\n",
    "            \n",
    "            # affichage du cercle\n",
    "            circle = plt.Circle((0,0), 1, facecolor='none', edgecolor='b')\n",
    "            plt.gca().add_artist(circle)\n",
    "                                                 \n",
    "            # définition des limites du graphique\n",
    "            plt.xlim(xmin, xmax)\n",
    "            plt.ylim(ymin, ymax)\n",
    "            \n",
    "            # affichage des lignes horizontales et verticales\n",
    "            plt.plot([-1, 1], [0, 0], color='grey', ls='--')\n",
    "            plt.plot([0, 0], [-1, 1], color='grey', ls='--')\n",
    "                    \n",
    "            # nom des axes, avec le pourcentage d'inertie expliqué\n",
    "            plt.xlabel('F{} ({}%)'.format(d1+1, round(100*pca.explained_variance_ratio_[d1],1)))\n",
    "            plt.ylabel('F{} ({}%)'.format(d2+1, round(100*pca.explained_variance_ratio_[d2],1)))\n",
    "            plt.title(\"Cercle des corrélations (F{} et F{})\".format(d1+1, d2+1)) \n",
    "            plt.show(block=False)"
   ]
  },
  {
   "cell_type": "markdown",
   "id": "762bdc86",
   "metadata": {},
   "source": [
    "### Définir la fonction d'affichage du graphe  \"Projection des individus sur F1 et F2 \" :"
   ]
  },
  {
   "cell_type": "code",
   "execution_count": 144,
   "id": "14a58f12",
   "metadata": {},
   "outputs": [],
   "source": [
    "def display_factorial_planes(X_projected, n_comp, pca, axis_ranks, labels=None, alpha=1, illustrative_var=None):\n",
    "    for d1,d2 in axis_ranks:\n",
    "        if d2 < n_comp:\n",
    "            \n",
    "            # initialisation de la figure\n",
    "            fig = plt.figure(figsize=(7,6))\n",
    "            \n",
    "            # affichage des points\n",
    "            if illustrative_var is None:\n",
    "                plt.scatter(X_projected[:, d1], X_projected[:, d2],alpha=alpha)\n",
    "            else:\n",
    "                illustrative_var = np.array(illustrative_var)\n",
    "                for value in np.unique(illustrative_var):\n",
    "                    selected = np.where(illustrative_var == value)\n",
    "                    plt.scatter(X_projected[selected, d1], X_projected[selected, d2], alpha=alpha, label=value)\n",
    "                    plt.legend()\n",
    "            # affichage des labels des points\n",
    "            if labels is not None:\n",
    "                for i,(x,y) in enumerate(X_projected[:,[d1,d2]]):\n",
    "                    plt.text(x, y, labels[i],fontsize='14', ha='center',va='center')\n",
    "\n",
    "            # détermination des limites du graphique\n",
    "            boundary = np.max(np.abs(X_projected[:, [d1,d2]])) * 1.1\n",
    "            plt.xlim([-boundary,boundary])\n",
    "            plt.ylim([-boundary,boundary])\n",
    "            \n",
    "            # affichage des lignes horizontales et verticales\n",
    "            plt.plot([-100, 100], [0, 0], color='grey', ls='--')\n",
    "            plt.plot([0, 0], [-100, 100], color='grey', ls='--')\n",
    "            \n",
    "            # nom des axes, avec le pourcentage d'inertie expliqué\n",
    "            plt.xlabel('F{} ({}%)'.format(d1+1, round(100*pca.explained_variance_ratio_[d1],1)))\n",
    "            plt.ylabel('F{} ({}%)'.format(d2+1, round(100*pca.explained_variance_ratio_[d2],1)))\n",
    "            plt.title(\"Projection des individus (sur F{} et F{})\".format(d1+1, d2+1))\n",
    "            plt.show(block=False)"
   ]
  },
  {
   "cell_type": "markdown",
   "id": "7201e0e1",
   "metadata": {},
   "source": [
    "### Définir la fonction d'affichage du graphe \"Eboulis des valeurs propres\" :"
   ]
  },
  {
   "cell_type": "code",
   "execution_count": 145,
   "id": "a596d3ad",
   "metadata": {},
   "outputs": [],
   "source": [
    "def display_scree_plot(pca):\n",
    "    scree = pca.explained_variance_ratio_*100\n",
    "    plt.bar(np.arange(len(scree))+1, scree)\n",
    "    plt.plot(np.arange(len(scree))+1, scree.cumsum(),c=\"red\",marker='o')\n",
    "    plt.xlabel(\"rang de l'axe d'inertie\") \n",
    "    plt.ylabel(\"pourcentage d'inertie\") \n",
    "    plt.title(\"Eboulis des valeurs propres\") \n",
    "    plt.show(block=False)\n",
    "    plt.show()\n"
   ]
  },
  {
   "cell_type": "markdown",
   "id": "01d6ea8b",
   "metadata": {},
   "source": [
    "### Affichage les graphes qui representent :\n",
    "   -  la variance expliqué par la 2ème composante principale\n",
    "   - le nuage des points après projection\n",
    "   - le cercle de correlation"
   ]
  },
  {
   "cell_type": "code",
   "execution_count": 146,
   "id": "6a76c569",
   "metadata": {},
   "outputs": [
    {
     "data": {
      "image/png": "[encoded data removed]",
      "text/plain": [
       "<Figure size 640x480 with 1 Axes>"
      ]
     },
     "metadata": {},
     "output_type": "display_data"
    },
    {
     "data": {
      "image/png": "[encoded data removed]",
      "text/plain": [
       "<Figure size 700x600 with 1 Axes>"
      ]
     },
     "metadata": {},
     "output_type": "display_data"
    },
    {
     "data": {
      "image/png": "[encoded data removed]",
      "text/plain": [
       "<Figure size 700x600 with 1 Axes>"
      ]
     },
     "metadata": {},
     "output_type": "display_data"
    }
   ],
   "source": [
    "# choix du nombre de composantes à calculer\n",
    "n_comp = 2\n",
    "# import de l'échantillon\n",
    "X = data.values\n",
    "# Réduire n'est ici pas nécessaire car les variables sont exprimées dans la même unité.\n",
    "# On se contente juste de centrer les données, ce qui est obligatoire pour une ACP.\n",
    "X = preprocessing.StandardScaler(with_std=False).fit_transform(X)\n",
    "# Calcul des composantes principales\n",
    "pca = decomposition.PCA(n_components= n_comp)\n",
    "pca.fit(X)\n",
    "# Eboulis des valeurs propres\n",
    "display_scree_plot(pca)\n",
    "# projection des individus\n",
    "X_projected = pca.transform(X)\n",
    "display_factorial_planes(X_projected, n_comp, pca, [(0,1),(1,2),(0,2)], alpha = 0.2)\n",
    "# Cercle des corrélations\n",
    "features = data.columns\n",
    "pcs = pca.components_\n",
    "display_circles(pcs, n_comp, pca, [(0,1),(2,3),(4,5)],labels = np.array(features))"
   ]
  },
  {
   "cell_type": "markdown",
   "id": "682a765c",
   "metadata": {},
   "source": [
    "#### ==> Il ya une correlation entre les variables (px_width et px_height, px_height et battery_power,...), et  les variables ram, px_width, px_height et battery_power sont bien representé"
   ]
  },
  {
   "cell_type": "markdown",
   "id": "8d0629cf",
   "metadata": {},
   "source": [
    "### Affichage du graphe d'Eboulis des valeurs propres pour 3 variables :"
   ]
  },
  {
   "cell_type": "code",
   "execution_count": 147,
   "id": "75e419dc",
   "metadata": {},
   "outputs": [
    {
     "data": {
      "image/png": "[encoded data removed]",
      "text/plain": [
       "<Figure size 640x480 with 1 Axes>"
      ]
     },
     "metadata": {},
     "output_type": "display_data"
    }
   ],
   "source": [
    "pca = decomposition.PCA(n_components= 3) \n",
    "pca.fit(X)\n",
    "display_scree_plot(pca)"
   ]
  },
  {
   "cell_type": "markdown",
   "id": "f2743bd0",
   "metadata": {},
   "source": [
    "##### ==> la variance expliqué par la 3ème composante principale"
   ]
  },
  {
   "cell_type": "markdown",
   "id": "ea619488",
   "metadata": {},
   "source": [
    "### Pourcentage de variance expliquée par chacune des composantes :"
   ]
  },
  {
   "cell_type": "code",
   "execution_count": 148,
   "id": "425d9dd4",
   "metadata": {},
   "outputs": [
    {
     "name": "stdout",
     "output_type": "stream",
     "text": [
      "[0.55005797 0.39971759 0.04898489]\n",
      "0.99876043824401\n"
     ]
    }
   ],
   "source": [
    "print (pca.explained_variance_ratio_)\n",
    "print (pca.explained_variance_ratio_.sum())"
   ]
  }
 ],
 "metadata": {
  "kernelspec": {
   "display_name": "Python 3 (ipykernel)",
   "language": "python",
   "name": "python3"
  },
  "language_info": {
   "codemirror_mode": {
    "name": "ipython",
    "version": 3
   },
   "file_extension": ".py",
   "mimetype": "text/x-python",
   "name": "python",
   "nbconvert_exporter": "python",
   "pygments_lexer": "ipython3",
   "version": "3.11.5"
  }
 },
 "nbformat": 4,
 "nbformat_minor": 5
}
